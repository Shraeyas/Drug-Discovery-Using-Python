{
 "cells": [
  {
   "cell_type": "code",
   "execution_count": 213,
   "id": "5fda23fd-ab80-4846-b578-2152ef2e2206",
   "metadata": {},
   "outputs": [],
   "source": [
    "import pandas as pd\n",
    "import numpy as np\n",
    "import os\n",
    "import tensorflow as tf"
   ]
  },
  {
   "cell_type": "code",
   "execution_count": 214,
   "id": "7383a07a-0bcc-4432-9890-4ad530cbe01c",
   "metadata": {},
   "outputs": [
    {
     "data": {
      "text/html": [
       "<div>\n",
       "<style scoped>\n",
       "    .dataframe tbody tr th:only-of-type {\n",
       "        vertical-align: middle;\n",
       "    }\n",
       "\n",
       "    .dataframe tbody tr th {\n",
       "        vertical-align: top;\n",
       "    }\n",
       "\n",
       "    .dataframe thead th {\n",
       "        text-align: right;\n",
       "    }\n",
       "</style>\n",
       "<table border=\"1\" class=\"dataframe\">\n",
       "  <thead>\n",
       "    <tr style=\"text-align: right;\">\n",
       "      <th></th>\n",
       "      <th>PubchemFP0</th>\n",
       "      <th>PubchemFP1</th>\n",
       "      <th>PubchemFP2</th>\n",
       "      <th>PubchemFP3</th>\n",
       "      <th>PubchemFP4</th>\n",
       "      <th>PubchemFP5</th>\n",
       "      <th>PubchemFP6</th>\n",
       "      <th>PubchemFP7</th>\n",
       "      <th>PubchemFP8</th>\n",
       "      <th>PubchemFP9</th>\n",
       "      <th>...</th>\n",
       "      <th>PubchemFP872</th>\n",
       "      <th>PubchemFP873</th>\n",
       "      <th>PubchemFP874</th>\n",
       "      <th>PubchemFP875</th>\n",
       "      <th>PubchemFP876</th>\n",
       "      <th>PubchemFP877</th>\n",
       "      <th>PubchemFP878</th>\n",
       "      <th>PubchemFP879</th>\n",
       "      <th>PubchemFP880</th>\n",
       "      <th>PIC50</th>\n",
       "    </tr>\n",
       "  </thead>\n",
       "  <tbody>\n",
       "    <tr>\n",
       "      <th>0</th>\n",
       "      <td>1</td>\n",
       "      <td>1</td>\n",
       "      <td>1</td>\n",
       "      <td>0</td>\n",
       "      <td>0</td>\n",
       "      <td>0</td>\n",
       "      <td>0</td>\n",
       "      <td>0</td>\n",
       "      <td>0</td>\n",
       "      <td>1</td>\n",
       "      <td>...</td>\n",
       "      <td>0</td>\n",
       "      <td>0</td>\n",
       "      <td>0</td>\n",
       "      <td>0</td>\n",
       "      <td>0</td>\n",
       "      <td>0</td>\n",
       "      <td>0</td>\n",
       "      <td>0</td>\n",
       "      <td>0</td>\n",
       "      <td>6.12</td>\n",
       "    </tr>\n",
       "    <tr>\n",
       "      <th>1</th>\n",
       "      <td>1</td>\n",
       "      <td>1</td>\n",
       "      <td>1</td>\n",
       "      <td>0</td>\n",
       "      <td>0</td>\n",
       "      <td>0</td>\n",
       "      <td>0</td>\n",
       "      <td>0</td>\n",
       "      <td>0</td>\n",
       "      <td>1</td>\n",
       "      <td>...</td>\n",
       "      <td>0</td>\n",
       "      <td>0</td>\n",
       "      <td>0</td>\n",
       "      <td>0</td>\n",
       "      <td>0</td>\n",
       "      <td>0</td>\n",
       "      <td>0</td>\n",
       "      <td>0</td>\n",
       "      <td>0</td>\n",
       "      <td>7.00</td>\n",
       "    </tr>\n",
       "    <tr>\n",
       "      <th>2</th>\n",
       "      <td>1</td>\n",
       "      <td>1</td>\n",
       "      <td>0</td>\n",
       "      <td>0</td>\n",
       "      <td>0</td>\n",
       "      <td>0</td>\n",
       "      <td>0</td>\n",
       "      <td>0</td>\n",
       "      <td>0</td>\n",
       "      <td>1</td>\n",
       "      <td>...</td>\n",
       "      <td>0</td>\n",
       "      <td>0</td>\n",
       "      <td>0</td>\n",
       "      <td>0</td>\n",
       "      <td>0</td>\n",
       "      <td>0</td>\n",
       "      <td>0</td>\n",
       "      <td>0</td>\n",
       "      <td>0</td>\n",
       "      <td>4.30</td>\n",
       "    </tr>\n",
       "    <tr>\n",
       "      <th>3</th>\n",
       "      <td>1</td>\n",
       "      <td>1</td>\n",
       "      <td>1</td>\n",
       "      <td>0</td>\n",
       "      <td>0</td>\n",
       "      <td>0</td>\n",
       "      <td>0</td>\n",
       "      <td>0</td>\n",
       "      <td>0</td>\n",
       "      <td>1</td>\n",
       "      <td>...</td>\n",
       "      <td>0</td>\n",
       "      <td>0</td>\n",
       "      <td>0</td>\n",
       "      <td>0</td>\n",
       "      <td>0</td>\n",
       "      <td>0</td>\n",
       "      <td>0</td>\n",
       "      <td>0</td>\n",
       "      <td>0</td>\n",
       "      <td>6.52</td>\n",
       "    </tr>\n",
       "    <tr>\n",
       "      <th>4</th>\n",
       "      <td>1</td>\n",
       "      <td>1</td>\n",
       "      <td>0</td>\n",
       "      <td>0</td>\n",
       "      <td>0</td>\n",
       "      <td>0</td>\n",
       "      <td>0</td>\n",
       "      <td>0</td>\n",
       "      <td>0</td>\n",
       "      <td>1</td>\n",
       "      <td>...</td>\n",
       "      <td>0</td>\n",
       "      <td>0</td>\n",
       "      <td>0</td>\n",
       "      <td>0</td>\n",
       "      <td>0</td>\n",
       "      <td>0</td>\n",
       "      <td>0</td>\n",
       "      <td>0</td>\n",
       "      <td>0</td>\n",
       "      <td>6.10</td>\n",
       "    </tr>\n",
       "  </tbody>\n",
       "</table>\n",
       "<p>5 rows × 882 columns</p>\n",
       "</div>"
      ],
      "text/plain": [
       "   PubchemFP0  PubchemFP1  PubchemFP2  PubchemFP3  PubchemFP4  PubchemFP5  \\\n",
       "0           1           1           1           0           0           0   \n",
       "1           1           1           1           0           0           0   \n",
       "2           1           1           0           0           0           0   \n",
       "3           1           1           1           0           0           0   \n",
       "4           1           1           0           0           0           0   \n",
       "\n",
       "   PubchemFP6  PubchemFP7  PubchemFP8  PubchemFP9  ...  PubchemFP872  \\\n",
       "0           0           0           0           1  ...             0   \n",
       "1           0           0           0           1  ...             0   \n",
       "2           0           0           0           1  ...             0   \n",
       "3           0           0           0           1  ...             0   \n",
       "4           0           0           0           1  ...             0   \n",
       "\n",
       "   PubchemFP873  PubchemFP874  PubchemFP875  PubchemFP876  PubchemFP877  \\\n",
       "0             0             0             0             0             0   \n",
       "1             0             0             0             0             0   \n",
       "2             0             0             0             0             0   \n",
       "3             0             0             0             0             0   \n",
       "4             0             0             0             0             0   \n",
       "\n",
       "   PubchemFP878  PubchemFP879  PubchemFP880  PIC50  \n",
       "0             0             0             0   6.12  \n",
       "1             0             0             0   7.00  \n",
       "2             0             0             0   4.30  \n",
       "3             0             0             0   6.52  \n",
       "4             0             0             0   6.10  \n",
       "\n",
       "[5 rows x 882 columns]"
      ]
     },
     "execution_count": 214,
     "metadata": {},
     "output_type": "execute_result"
    }
   ],
   "source": [
    "data = pd.read_csv (os.path.join (\"Datasets\", \"Part-3_Bioactivity_Three_PubChem_PIC50.csv\"))\n",
    "data.head ()"
   ]
  },
  {
   "cell_type": "code",
   "execution_count": 215,
   "id": "3b338c80-4dde-47dc-b1d5-063d77289736",
   "metadata": {},
   "outputs": [],
   "source": [
    "X = data.drop (columns = ['PIC50'])"
   ]
  },
  {
   "cell_type": "code",
   "execution_count": 223,
   "id": "a4002a93-3743-411e-a744-722c044c55ca",
   "metadata": {},
   "outputs": [
    {
     "data": {
      "text/html": [
       "<div>\n",
       "<style scoped>\n",
       "    .dataframe tbody tr th:only-of-type {\n",
       "        vertical-align: middle;\n",
       "    }\n",
       "\n",
       "    .dataframe tbody tr th {\n",
       "        vertical-align: top;\n",
       "    }\n",
       "\n",
       "    .dataframe thead th {\n",
       "        text-align: right;\n",
       "    }\n",
       "</style>\n",
       "<table border=\"1\" class=\"dataframe\">\n",
       "  <thead>\n",
       "    <tr style=\"text-align: right;\">\n",
       "      <th></th>\n",
       "      <th>activity</th>\n",
       "    </tr>\n",
       "  </thead>\n",
       "  <tbody>\n",
       "    <tr>\n",
       "      <th>0</th>\n",
       "      <td>active</td>\n",
       "    </tr>\n",
       "    <tr>\n",
       "      <th>1</th>\n",
       "      <td>active</td>\n",
       "    </tr>\n",
       "    <tr>\n",
       "      <th>2</th>\n",
       "      <td>inactive</td>\n",
       "    </tr>\n",
       "    <tr>\n",
       "      <th>3</th>\n",
       "      <td>active</td>\n",
       "    </tr>\n",
       "    <tr>\n",
       "      <th>4</th>\n",
       "      <td>active</td>\n",
       "    </tr>\n",
       "  </tbody>\n",
       "</table>\n",
       "</div>"
      ],
      "text/plain": [
       "   activity\n",
       "0    active\n",
       "1    active\n",
       "2  inactive\n",
       "3    active\n",
       "4    active"
      ]
     },
     "execution_count": 223,
     "metadata": {},
     "output_type": "execute_result"
    }
   ],
   "source": [
    "Y = []\n",
    "for i in range (len (data)) :\n",
    "    if data.PIC50 [i] < 5 :\n",
    "        Y.append ('inactive')\n",
    "    elif data.PIC50 [i] > 6 :\n",
    "        Y.append ('active')\n",
    "    else :\n",
    "        Y.append ('intermediate')\n",
    "Y = pd.DataFrame (Y, columns = ['activity'])\n",
    "Y.head ()"
   ]
  },
  {
   "cell_type": "markdown",
   "id": "388a47f5-fbee-411a-a290-6be19c45bc0d",
   "metadata": {},
   "source": [
    "### Label Encode the features"
   ]
  },
  {
   "cell_type": "code",
   "execution_count": 9,
   "id": "613df89f-3846-44cf-8073-1102b9287871",
   "metadata": {},
   "outputs": [
    {
     "name": "stdout",
     "output_type": "stream",
     "text": [
      "   PubchemFP0  PubchemFP1  PubchemFP2  PubchemFP3  PubchemFP4  PubchemFP5  \\\n",
      "0           1           1           1           0           0           0   \n",
      "1           1           1           1           0           0           0   \n",
      "2           1           1           0           0           0           0   \n",
      "\n",
      "   PubchemFP6  PubchemFP7  PubchemFP8  PubchemFP9  ...  PubchemFP871  \\\n",
      "0           0           0           0           1  ...             0   \n",
      "1           0           0           0           1  ...             0   \n",
      "2           0           0           0           1  ...             0   \n",
      "\n",
      "   PubchemFP872  PubchemFP873  PubchemFP874  PubchemFP875  PubchemFP876  \\\n",
      "0             0             0             0             0             0   \n",
      "1             0             0             0             0             0   \n",
      "2             0             0             0             0             0   \n",
      "\n",
      "   PubchemFP877  PubchemFP878  PubchemFP879  PubchemFP880  \n",
      "0             0             0             0             0  \n",
      "1             0             0             0             0  \n",
      "2             0             0             0             0  \n",
      "\n",
      "[3 rows x 881 columns]\n",
      "[[0]\n",
      " [0]\n",
      " [1]\n",
      " ...\n",
      " [1]\n",
      " [1]\n",
      " [0]]\n",
      "(4928, 881)\n",
      "(4928, 3)\n"
     ]
    }
   ],
   "source": [
    "from sklearn import preprocessing\n",
    "label_encoder = preprocessing.LabelEncoder ()\n",
    "Y = label_encoder.fit_transform (Y)\n",
    "\n",
    "from sklearn.preprocessing import OneHotEncoder\n",
    "onehot_encoder = OneHotEncoder (sparse = False)\n",
    "Y = Y.reshape (len (Y), 1)\n",
    "Y_enc = onehot_encoder.fit_transform (Y)\n",
    "\n",
    "print (X.head (3))\n",
    "print (Y_enc)\n",
    "\n",
    "print (X.shape)\n",
    "print (Y_enc.shape)"
   ]
  },
  {
   "cell_type": "code",
   "execution_count": 13,
   "id": "f3642edd-59da-4f39-a395-7577678d3ac6",
   "metadata": {},
   "outputs": [],
   "source": [
    "from tensorflow import keras\n",
    "from tensorflow.keras import layers\n",
    "from keras_tuner.tuners import RandomSearch"
   ]
  },
  {
   "cell_type": "code",
   "execution_count": 15,
   "id": "c88e285f-b176-420e-9a5c-a188e6d064fb",
   "metadata": {},
   "outputs": [],
   "source": [
    "def build_model (hp) :\n",
    "    model = keras.Sequential ()\n",
    "    model.add (layers.Dense (input_shape = (881, ), units = hp.Int ('units', min_value = 32, max_value = 512, step = 128), activation = 'relu'))\n",
    "    \n",
    "    for i in range (hp.Int ('layers', 2, 3)) :\n",
    "        model.add (layers.Dense (units = hp.Int ('units_' + str (i), 32, 256, step = 32), activation = hp.Choice ('act_' + str (i), ['relu', 'sigmoid'])))\n",
    "        \n",
    "    model.add (layers.Dense (3, activation = 'sigmoid'))\n",
    "    model.compile (optimizer = keras.optimizers.Adam\n",
    "                   (hp.Choice ('learning_rate',\n",
    "                               values = [1e-1, 1e-3])),\n",
    "                   loss = 'mean_absolute_error',\n",
    "                   metrics = ['accuracy'])\n",
    "    return model"
   ]
  },
  {
   "cell_type": "code",
   "execution_count": 16,
   "id": "30c3fd80-6efe-4719-abdf-8e85c92377de",
   "metadata": {},
   "outputs": [],
   "source": [
    "tuner = RandomSearch (build_model,\n",
    "                      objective = 'accuracy',\n",
    "                      max_trials = 10,\n",
    "                      executions_per_trial = 1)"
   ]
  },
  {
   "cell_type": "code",
   "execution_count": 17,
   "id": "a07c9aa9-95b6-4167-a795-a9ab5b227101",
   "metadata": {},
   "outputs": [
    {
     "name": "stdout",
     "output_type": "stream",
     "text": [
      "Trial 10 Complete [00h 00m 40s]\n",
      "accuracy: 0.6313896775245667\n",
      "\n",
      "Best accuracy So Far: 0.7839712500572205\n",
      "Total elapsed time: 00h 08m 33s\n",
      "INFO:tensorflow:Oracle triggered exit\n"
     ]
    }
   ],
   "source": [
    "tuner.search (X_train, y_train,\n",
    "             epochs = 100,\n",
    "             validation_data = (X_test, y_test))"
   ]
  },
  {
   "cell_type": "code",
   "execution_count": 20,
   "id": "d4509efb-213d-4a27-b8f5-29e9703d337c",
   "metadata": {},
   "outputs": [
    {
     "name": "stdout",
     "output_type": "stream",
     "text": [
      "33/33 [==============================] - 0s 2ms/step - loss: 0.1649 - accuracy: 0.7527\n"
     ]
    }
   ],
   "source": [
    "best_model = tuner.get_best_models(num_models=1)[0]\n",
    "loss, mse = best_model.evaluate(X_test, y_test)"
   ]
  },
  {
   "cell_type": "code",
   "execution_count": 21,
   "id": "bc474872-1cac-4fc4-aec1-674b4d85a3ac",
   "metadata": {},
   "outputs": [
    {
     "name": "stdout",
     "output_type": "stream",
     "text": [
      "Model: \"sequential\"\n",
      "_________________________________________________________________\n",
      " Layer (type)                Output Shape              Param #   \n",
      "=================================================================\n",
      " dense (Dense)               (None, 160)               141120    \n",
      "                                                                 \n",
      " dense_1 (Dense)             (None, 224)               36064     \n",
      "                                                                 \n",
      " dense_2 (Dense)             (None, 224)               50400     \n",
      "                                                                 \n",
      " dense_3 (Dense)             (None, 64)                14400     \n",
      "                                                                 \n",
      " dense_4 (Dense)             (None, 3)                 195       \n",
      "                                                                 \n",
      "=================================================================\n",
      "Total params: 242,179\n",
      "Trainable params: 242,179\n",
      "Non-trainable params: 0\n",
      "_________________________________________________________________\n"
     ]
    }
   ],
   "source": [
    "best_model.summary ()"
   ]
  },
  {
   "cell_type": "code",
   "execution_count": 342,
   "id": "73a48055-a128-4833-9bb1-0ff4b65db171",
   "metadata": {},
   "outputs": [],
   "source": [
    "model = keras.Sequential ()\n",
    "model.add (layers.Dense (input_shape = (881, ), units = 160, activation = 'relu'))\n",
    "\n",
    "model.add (layers.Dense (units = 224, activation = 'relu'))    \n",
    "model.add (layers.Dense (units = 224, activation = 'relu'))\n",
    "model.add (layers.Dense (units = 64, activation = 'relu'))\n",
    "\n",
    "model.add (layers.Dense (3, activation = 'softmax'))\n",
    "\n",
    "learning_rate = 1e-3\n",
    "model.compile (optimizer = tf.keras.optimizers.Adam (learning_rate = learning_rate, beta_1 = 0.9, beta_2 = 0.999, epsilon = 1e-07, amsgrad = False),\n",
    "               loss = 'categorical_crossentropy',\n",
    "               metrics = ['accuracy'])"
   ]
  },
  {
   "cell_type": "code",
   "execution_count": 343,
   "id": "34741ff0-03fd-4be3-99a2-9b770bd22555",
   "metadata": {},
   "outputs": [
    {
     "name": "stdout",
     "output_type": "stream",
     "text": [
      "Done\n"
     ]
    }
   ],
   "source": [
    "fit_model = model.fit (X_train, y_train, epochs = 1000, verbose = 0)\n",
    "print (\"Done\")"
   ]
  },
  {
   "cell_type": "code",
   "execution_count": 344,
   "id": "2f0ad268-4e66-4509-bdfb-09a9605c2093",
   "metadata": {},
   "outputs": [
    {
     "data": {
      "text/plain": [
       "[<matplotlib.lines.Line2D at 0x183cd4b9308>]"
      ]
     },
     "execution_count": 344,
     "metadata": {},
     "output_type": "execute_result"
    },
    {
     "data": {
      "image/png": "[encoded data removed]",
      "text/plain": [
       "<Figure size 432x288 with 1 Axes>"
      ]
     },
     "metadata": {
      "needs_background": "light"
     },
     "output_type": "display_data"
    }
   ],
   "source": [
    "import matplotlib.pyplot as plt\n",
    "%matplotlib inline\n",
    "\n",
    "plt.xlabel ('Epoch Number')\n",
    "plt.ylabel (\"Loss Magnitude\")\n",
    "\n",
    "plt.plot (fit_model.history ['loss'])"
   ]
  },
  {
   "cell_type": "code",
   "execution_count": 345,
   "id": "15741b9c-6576-4613-b147-76ee7ad13a49",
   "metadata": {},
   "outputs": [
    {
     "data": {
      "text/plain": [
       "array([[9.9987316e-01, 1.2685613e-04, 6.3884542e-09],\n",
       "       [1.0000000e+00, 9.5170183e-09, 1.4696974e-13],\n",
       "       [7.4379081e-01, 4.1757594e-03, 2.5203347e-01],\n",
       "       ...,\n",
       "       [8.8867807e-01, 5.7271238e-02, 5.4050766e-02],\n",
       "       [6.2368791e-20, 1.0000000e+00, 2.6663050e-38],\n",
       "       [9.9591112e-01, 4.0888442e-03, 3.8318358e-14]], dtype=float32)"
      ]
     },
     "execution_count": 345,
     "metadata": {},
     "output_type": "execute_result"
    }
   ],
   "source": [
    "y_pred = model.predict (X_test)\n",
    "y_pred"
   ]
  },
  {
   "cell_type": "code",
   "execution_count": 346,
   "id": "718ba488-8f96-4c91-94c4-317a82a0e02d",
   "metadata": {},
   "outputs": [
    {
     "name": "stdout",
     "output_type": "stream",
     "text": [
      "Train Loss, Accuracy :  [0.14166472852230072, 0.9291034936904907]\n",
      "Test Loss, Accuracy :  [3.8111143112182617, 0.7613526582717896]\n"
     ]
    }
   ],
   "source": [
    "train_acc = model.evaluate (X_train, y_train, verbose = 0)\n",
    "test_acc = model.evaluate (X_test, y_test, verbose = 0)\n",
    "print (\"Train Loss, Accuracy : \", train_acc)\n",
    "print (\"Test Loss, Accuracy : \", test_acc)"
   ]
  },
  {
   "cell_type": "markdown",
   "id": "d3a46702-76de-424f-a28a-27d5f705df58",
   "metadata": {},
   "source": [
    "### Regularization\n",
    "##### The model seems to be overfitting, so adding some regularization parameters"
   ]
  },
  {
   "cell_type": "code",
   "execution_count": 424,
   "id": "4a8ffe6f-fac6-4488-bdaf-ef9d7eeede13",
   "metadata": {},
   "outputs": [],
   "source": [
    "model = keras.Sequential ()\n",
    "initializer = tf.keras.initializers.GlorotUniform ()\n",
    "\n",
    "model.add (layers.Dense (input_shape = (881, ),\n",
    "                         units = 160,\n",
    "                         activation = 'relu',\n",
    "                         kernel_initializer = initializer\n",
    "                         ))\n",
    "model.add (layers.Dense (units = 224,\n",
    "                         activation = 'relu',\n",
    "                         kernel_regularizer = tf.keras.regularizers.L2 (0.1),\n",
    "                         kernel_initializer = initializer\n",
    "                         ))    \n",
    "model.add (layers.Dense (units = 224,\n",
    "                         activation = 'relu',\n",
    "                         kernel_regularizer = tf.keras.regularizers.L2 (0.1),\n",
    "                         kernel_initializer = initializer\n",
    "                         ))\n",
    "model.add (layers.Dense (units = 64,\n",
    "                         activation = 'relu',\n",
    "                         kernel_regularizer = tf.keras.regularizers.L2 (0.1),\n",
    "                         kernel_initializer = initializer\n",
    "                         ))\n",
    "\n",
    "model.add (layers.Dense (3, activation = 'softmax',\n",
    "                         kernel_regularizer = tf.keras.regularizers.L2 (0.1),\n",
    "                         ))"
   ]
  },
  {
   "cell_type": "code",
   "execution_count": 425,
   "id": "69b7a089-06a6-42f1-b88c-55dc4ba5f91d",
   "metadata": {},
   "outputs": [],
   "source": [
    "from tensorflow.keras.optimizers.schedules import PolynomialDecay\n",
    "epochs = 1000\n",
    "batch_size = 30\n",
    "num_train_steps = (len (X_train) / batch_size) * epochs\n",
    "\n",
    "initial_learning_rate = 0.5e-3\n",
    "lr_scheduler = PolynomialDecay (initial_learning_rate = initial_learning_rate,\n",
    "                                end_learning_rate = 0,\n",
    "                                decay_steps = num_train_steps)\n",
    "\n",
    "model.compile (optimizer = tf.keras.optimizers.Adam (learning_rate = lr_scheduler, beta_1 = 0.9, beta_2 = 0.999, epsilon = 1e-07, amsgrad = False),\n",
    "               loss = 'categorical_crossentropy',\n",
    "               metrics = ['accuracy'])"
   ]
  },
  {
   "cell_type": "code",
   "execution_count": 433,
   "id": "f313b7ed-2f3a-44be-8bd6-9c24c57544a0",
   "metadata": {},
   "outputs": [
    {
     "name": "stdout",
     "output_type": "stream",
     "text": [
      "Done\n"
     ]
    }
   ],
   "source": [
    "tb_callback = tf.keras.callbacks.TensorBoard (log_dir = \"logs/\", histogram_freq = 1)\n",
    "fit_model = model.fit (X_train, y_train, epochs = epochs, verbose = 0, batch_size = batch_size, callbacks = [tb_callback])\n",
    "print (\"Done\")"
   ]
  },
  {
   "cell_type": "code",
   "execution_count": 434,
   "id": "1550d8aa-d7cd-4ed8-af50-3a70cf829477",
   "metadata": {},
   "outputs": [
    {
     "data": {
      "text/plain": [
       "[<matplotlib.lines.Line2D at 0x183cd750588>]"
      ]
     },
     "execution_count": 434,
     "metadata": {},
     "output_type": "execute_result"
    },
    {
     "data": {
      "image/png": "[encoded data removed]",
      "text/plain": [
       "<Figure size 432x288 with 1 Axes>"
      ]
     },
     "metadata": {
      "needs_background": "light"
     },
     "output_type": "display_data"
    }
   ],
   "source": [
    "import matplotlib.pyplot as plt\n",
    "%matplotlib inline\n",
    "\n",
    "plt.xlabel ('Epoch Number')\n",
    "plt.ylabel (\"Loss Magnitude\")\n",
    "\n",
    "plt.plot (fit_model.history ['loss'])"
   ]
  },
  {
   "cell_type": "code",
   "execution_count": 435,
   "id": "7bf121ac-0041-4e3e-97ac-8073f3290304",
   "metadata": {},
   "outputs": [
    {
     "data": {
      "text/plain": [
       "array([[0.9849777 , 0.00638613, 0.00863619],\n",
       "       [0.69376385, 0.25547802, 0.05075815],\n",
       "       [0.9621792 , 0.02161687, 0.01620402],\n",
       "       ...,\n",
       "       [0.88505155, 0.08331579, 0.0316326 ],\n",
       "       [0.08156195, 0.8831993 , 0.0352388 ],\n",
       "       [0.44281897, 0.49889234, 0.05828872]], dtype=float32)"
      ]
     },
     "execution_count": 435,
     "metadata": {},
     "output_type": "execute_result"
    }
   ],
   "source": [
    "y_pred = model.predict (X_test)\n",
    "y_pred"
   ]
  },
  {
   "cell_type": "code",
   "execution_count": 436,
   "id": "eadf3ab6-f8b6-4e14-8ee9-399d4c25ecfa",
   "metadata": {},
   "outputs": [
    {
     "name": "stdout",
     "output_type": "stream",
     "text": [
      "Train Loss, Accuracy :  [0.5720062851905823, 0.8389416933059692]\n",
      "Test Loss, Accuracy :  [0.7461812496185303, 0.7690821290016174]\n"
     ]
    }
   ],
   "source": [
    "train_acc = model.evaluate (X_train, y_train, verbose = 0)\n",
    "test_acc = model.evaluate (X_test, y_test, verbose = 0)\n",
    "print (\"Train Loss, Accuracy : \", train_acc)\n",
    "print (\"Test Loss, Accuracy : \", test_acc)"
   ]
  }
 ],
 "metadata": {
  "kernelspec": {
   "display_name": "Python 3 (ipykernel)",
   "language": "python",
   "name": "python3"
  },
  "language_info": {
   "codemirror_mode": {
    "name": "ipython",
    "version": 3
   },
   "file_extension": ".py",
   "mimetype": "text/x-python",
   "name": "python",
   "nbconvert_exporter": "python",
   "pygments_lexer": "ipython3",
   "version": "3.7.10"
  }
 },
 "nbformat": 4,
 "nbformat_minor": 5
}
