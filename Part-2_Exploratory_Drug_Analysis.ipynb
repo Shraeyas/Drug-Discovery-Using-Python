{
 "cells": [
  {
   "cell_type": "markdown",
   "id": "a616c447-45c7-430f-906e-cecfcfc2f4bd",
   "metadata": {},
   "source": [
    "#### **To install rdkit**\n",
    "##### conda install -c rdkit rdkit\n",
    "##### pip install jupyterlab"
   ]
  },
  {
   "cell_type": "code",
   "execution_count": 1,
   "id": "35e792c3-3438-43cd-a01c-000a2d070c6e",
   "metadata": {},
   "outputs": [],
   "source": [
    "import os\n",
    "import pandas as pd"
   ]
  },
  {
   "cell_type": "markdown",
   "id": "a8a6a78e-9357-406e-bf98-b0202ef68187",
   "metadata": {},
   "source": [
    "#### **Load Pre-Processed data from Part-1**"
   ]
  },
  {
   "cell_type": "code",
   "execution_count": 2,
   "id": "64b6b5bc-a400-4b72-8caf-699afbdc590a",
   "metadata": {},
   "outputs": [],
   "source": [
    "df = pd.read_csv (\"bioactivity_preprocessed_data.csv\")"
   ]
  },
  {
   "cell_type": "markdown",
   "id": "1b24f21e-1969-430b-8ca9-cd436f89836f",
   "metadata": {},
   "source": [
    "### **Lipinskis rule of 5 :**\n",
    "##### Christopher Lipinski, a Scientist at Pfizer, came up with a set of rule of thumb for evalutaing the **drug likeness** of compunds. Such druglikeness is based on the Absorption, Distribution, Metabolism and Excretion **(ADME)** that is also known as the pharmacokinetic profile. Lipinski analyzed all orally active FDA-approved drugs in the formulation of what is to be known as the Rule of Five, or Lipinski's Rule.\n",
    "##### **1.** Weight of 1 Molecule should be less than 500gm/mole\n",
    "##### **2.** log (P) < 5\n",
    "P -> The Octanol : Water Partition coefficient\n",
    "If all the drug goes into octanol, then the ratio of Octanol will be very large, then it will be soluble, but it cannot be taken in the blood stream.\n",
    "In other words, it can't be too hydrophobic.\n",
    "##### **3.** Less than 5 H-bond donors (-OH)\n",
    "##### **4.** Less than 10 H-bond acceptors (-O)\n",
    "If there are too many hydrogen bond donors and acceptors, then the molecule will be very hydrophilic, and will be very soluble in blood, but it will not be able to go through the blood-brain barrier. Also, most of the binding sites for the drug will be hydrophobic.\n",
    "So, it can't be too hydrophobic, it can't be too hydrophilic."
   ]
  },
  {
   "cell_type": "code",
   "execution_count": 3,
   "id": "7b7eccb5-0450-4388-88cb-f05dde87326f",
   "metadata": {},
   "outputs": [],
   "source": [
    "import numpy as np\n",
    "from rdkit import Chem\n",
    "from rdkit.Chem import Descriptors, Lipinski"
   ]
  },
  {
   "cell_type": "markdown",
   "id": "c22d5bb8-01a9-4935-9cd1-05c95ac1ad35",
   "metadata": {},
   "source": [
    "#### **Compute Descriptors**\n",
    "##### We'll use the inbuilt function in rdkit Descriptors to find the values for the Lipinski Descriptors from the Canonical Smiles"
   ]
  },
  {
   "cell_type": "code",
   "execution_count": 4,
   "id": "70659ee5-6f2b-4348-920a-1116260b87f3",
   "metadata": {},
   "outputs": [],
   "source": [
    "def get_lipinski_descriptors (canonical_smiles) :\n",
    "    molecules = []\n",
    "    for canonical_smile in canonical_smiles :\n",
    "        molecule = Chem.MolFromSmiles (canonical_smile) \n",
    "        molecules.append (molecule)\n",
    "       \n",
    "    descriptors = []\n",
    "    for molecule in molecules :\n",
    "        descriptors_MolWt = Descriptors.MolWt (molecule)\n",
    "        descriptors_MolLogP = Descriptors.MolLogP (molecule)\n",
    "        descriptors_NumHDonors = Lipinski.NumHDonors (molecule)\n",
    "        descriptors_NumHAcceptors = Lipinski.NumHAcceptors (molecule)\n",
    "           \n",
    "        row = np.array ([descriptors_MolWt, descriptors_MolLogP, descriptors_NumHDonors, descriptors_NumHAcceptors])\n",
    "        descriptors.append (row)\n",
    "    \n",
    "    column_names = [\"MolecularWeight\", \"LogP\", \"NumHDonors\", \"NumHAcceptors\"]   \n",
    "    descriptors = pd.DataFrame (data = descriptors, columns = column_names)\n",
    "    \n",
    "    return descriptors"
   ]
  },
  {
   "cell_type": "code",
   "execution_count": 5,
   "id": "5efe2094-07ef-42f1-89ed-de830b031f9c",
   "metadata": {},
   "outputs": [
    {
     "data": {
      "text/html": [
       "<div>\n",
       "<style scoped>\n",
       "    .dataframe tbody tr th:only-of-type {\n",
       "        vertical-align: middle;\n",
       "    }\n",
       "\n",
       "    .dataframe tbody tr th {\n",
       "        vertical-align: top;\n",
       "    }\n",
       "\n",
       "    .dataframe thead th {\n",
       "        text-align: right;\n",
       "    }\n",
       "</style>\n",
       "<table border=\"1\" class=\"dataframe\">\n",
       "  <thead>\n",
       "    <tr style=\"text-align: right;\">\n",
       "      <th></th>\n",
       "      <th>MolecularWeight</th>\n",
       "      <th>LogP</th>\n",
       "      <th>NumHDonors</th>\n",
       "      <th>NumHAcceptors</th>\n",
       "    </tr>\n",
       "  </thead>\n",
       "  <tbody>\n",
       "    <tr>\n",
       "      <th>0</th>\n",
       "      <td>281.271</td>\n",
       "      <td>1.89262</td>\n",
       "      <td>0.0</td>\n",
       "      <td>5.0</td>\n",
       "    </tr>\n",
       "    <tr>\n",
       "      <th>1</th>\n",
       "      <td>415.589</td>\n",
       "      <td>3.81320</td>\n",
       "      <td>0.0</td>\n",
       "      <td>2.0</td>\n",
       "    </tr>\n",
       "    <tr>\n",
       "      <th>2</th>\n",
       "      <td>421.190</td>\n",
       "      <td>2.66050</td>\n",
       "      <td>0.0</td>\n",
       "      <td>4.0</td>\n",
       "    </tr>\n",
       "    <tr>\n",
       "      <th>3</th>\n",
       "      <td>293.347</td>\n",
       "      <td>3.63080</td>\n",
       "      <td>0.0</td>\n",
       "      <td>3.0</td>\n",
       "    </tr>\n",
       "    <tr>\n",
       "      <th>4</th>\n",
       "      <td>338.344</td>\n",
       "      <td>3.53900</td>\n",
       "      <td>0.0</td>\n",
       "      <td>5.0</td>\n",
       "    </tr>\n",
       "    <tr>\n",
       "      <th>...</th>\n",
       "      <td>...</td>\n",
       "      <td>...</td>\n",
       "      <td>...</td>\n",
       "      <td>...</td>\n",
       "    </tr>\n",
       "    <tr>\n",
       "      <th>128</th>\n",
       "      <td>338.359</td>\n",
       "      <td>3.40102</td>\n",
       "      <td>0.0</td>\n",
       "      <td>5.0</td>\n",
       "    </tr>\n",
       "    <tr>\n",
       "      <th>129</th>\n",
       "      <td>296.366</td>\n",
       "      <td>3.44330</td>\n",
       "      <td>0.0</td>\n",
       "      <td>3.0</td>\n",
       "    </tr>\n",
       "    <tr>\n",
       "      <th>130</th>\n",
       "      <td>276.291</td>\n",
       "      <td>4.09564</td>\n",
       "      <td>0.0</td>\n",
       "      <td>3.0</td>\n",
       "    </tr>\n",
       "    <tr>\n",
       "      <th>131</th>\n",
       "      <td>278.307</td>\n",
       "      <td>3.29102</td>\n",
       "      <td>0.0</td>\n",
       "      <td>3.0</td>\n",
       "    </tr>\n",
       "    <tr>\n",
       "      <th>132</th>\n",
       "      <td>282.383</td>\n",
       "      <td>4.10530</td>\n",
       "      <td>0.0</td>\n",
       "      <td>2.0</td>\n",
       "    </tr>\n",
       "  </tbody>\n",
       "</table>\n",
       "<p>133 rows × 4 columns</p>\n",
       "</div>"
      ],
      "text/plain": [
       "     MolecularWeight     LogP  NumHDonors  NumHAcceptors\n",
       "0            281.271  1.89262         0.0            5.0\n",
       "1            415.589  3.81320         0.0            2.0\n",
       "2            421.190  2.66050         0.0            4.0\n",
       "3            293.347  3.63080         0.0            3.0\n",
       "4            338.344  3.53900         0.0            5.0\n",
       "..               ...      ...         ...            ...\n",
       "128          338.359  3.40102         0.0            5.0\n",
       "129          296.366  3.44330         0.0            3.0\n",
       "130          276.291  4.09564         0.0            3.0\n",
       "131          278.307  3.29102         0.0            3.0\n",
       "132          282.383  4.10530         0.0            2.0\n",
       "\n",
       "[133 rows x 4 columns]"
      ]
     },
     "execution_count": 5,
     "metadata": {},
     "output_type": "execute_result"
    }
   ],
   "source": [
    "df_lipinski = get_lipinski_descriptors (df.values [:, 1])\n",
    "df_lipinski"
   ]
  },
  {
   "cell_type": "code",
   "execution_count": 6,
   "id": "d2961416-4e3a-449e-a1ad-8c52b8771700",
   "metadata": {},
   "outputs": [
    {
     "data": {
      "text/html": [
       "<div>\n",
       "<style scoped>\n",
       "    .dataframe tbody tr th:only-of-type {\n",
       "        vertical-align: middle;\n",
       "    }\n",
       "\n",
       "    .dataframe tbody tr th {\n",
       "        vertical-align: top;\n",
       "    }\n",
       "\n",
       "    .dataframe thead th {\n",
       "        text-align: right;\n",
       "    }\n",
       "</style>\n",
       "<table border=\"1\" class=\"dataframe\">\n",
       "  <thead>\n",
       "    <tr style=\"text-align: right;\">\n",
       "      <th></th>\n",
       "      <th>molecule_chembl_id</th>\n",
       "      <th>canonical_smiles</th>\n",
       "      <th>standard_value</th>\n",
       "      <th>bioactivity_class</th>\n",
       "      <th>MolecularWeight</th>\n",
       "      <th>LogP</th>\n",
       "      <th>NumHDonors</th>\n",
       "      <th>NumHAcceptors</th>\n",
       "    </tr>\n",
       "  </thead>\n",
       "  <tbody>\n",
       "    <tr>\n",
       "      <th>0</th>\n",
       "      <td>CHEMBL187579</td>\n",
       "      <td>Cc1noc(C)c1CN1C(=O)C(=O)c2cc(C#N)ccc21</td>\n",
       "      <td>7200.0</td>\n",
       "      <td>intermediate</td>\n",
       "      <td>281.271</td>\n",
       "      <td>1.89262</td>\n",
       "      <td>0.0</td>\n",
       "      <td>5.0</td>\n",
       "    </tr>\n",
       "    <tr>\n",
       "      <th>1</th>\n",
       "      <td>CHEMBL188487</td>\n",
       "      <td>O=C1C(=O)N(Cc2ccc(F)cc2Cl)c2ccc(I)cc21</td>\n",
       "      <td>9400.0</td>\n",
       "      <td>intermediate</td>\n",
       "      <td>415.589</td>\n",
       "      <td>3.81320</td>\n",
       "      <td>0.0</td>\n",
       "      <td>2.0</td>\n",
       "    </tr>\n",
       "    <tr>\n",
       "      <th>2</th>\n",
       "      <td>CHEMBL185698</td>\n",
       "      <td>O=C1C(=O)N(CC2COc3ccccc3O2)c2ccc(I)cc21</td>\n",
       "      <td>13500.0</td>\n",
       "      <td>inactive</td>\n",
       "      <td>421.190</td>\n",
       "      <td>2.66050</td>\n",
       "      <td>0.0</td>\n",
       "      <td>4.0</td>\n",
       "    </tr>\n",
       "    <tr>\n",
       "      <th>3</th>\n",
       "      <td>CHEMBL426082</td>\n",
       "      <td>O=C1C(=O)N(Cc2cc3ccccc3s2)c2ccccc21</td>\n",
       "      <td>13110.0</td>\n",
       "      <td>inactive</td>\n",
       "      <td>293.347</td>\n",
       "      <td>3.63080</td>\n",
       "      <td>0.0</td>\n",
       "      <td>3.0</td>\n",
       "    </tr>\n",
       "    <tr>\n",
       "      <th>4</th>\n",
       "      <td>CHEMBL187717</td>\n",
       "      <td>O=C1C(=O)N(Cc2cc3ccccc3s2)c2c1cccc2[N+](=O)[O-]</td>\n",
       "      <td>2000.0</td>\n",
       "      <td>intermediate</td>\n",
       "      <td>338.344</td>\n",
       "      <td>3.53900</td>\n",
       "      <td>0.0</td>\n",
       "      <td>5.0</td>\n",
       "    </tr>\n",
       "    <tr>\n",
       "      <th>...</th>\n",
       "      <td>...</td>\n",
       "      <td>...</td>\n",
       "      <td>...</td>\n",
       "      <td>...</td>\n",
       "      <td>...</td>\n",
       "      <td>...</td>\n",
       "      <td>...</td>\n",
       "      <td>...</td>\n",
       "    </tr>\n",
       "    <tr>\n",
       "      <th>128</th>\n",
       "      <td>CHEMBL2146517</td>\n",
       "      <td>COC(=O)[C@@]1(C)CCCc2c1ccc1c2C(=O)C(=O)c2c(C)c...</td>\n",
       "      <td>10600.0</td>\n",
       "      <td>inactive</td>\n",
       "      <td>338.359</td>\n",
       "      <td>3.40102</td>\n",
       "      <td>0.0</td>\n",
       "      <td>5.0</td>\n",
       "    </tr>\n",
       "    <tr>\n",
       "      <th>129</th>\n",
       "      <td>CHEMBL187460</td>\n",
       "      <td>C[C@H]1COC2=C1C(=O)C(=O)c1c2ccc2c1CCCC2(C)C</td>\n",
       "      <td>10100.0</td>\n",
       "      <td>inactive</td>\n",
       "      <td>296.366</td>\n",
       "      <td>3.44330</td>\n",
       "      <td>0.0</td>\n",
       "      <td>3.0</td>\n",
       "    </tr>\n",
       "    <tr>\n",
       "      <th>130</th>\n",
       "      <td>CHEMBL363535</td>\n",
       "      <td>Cc1coc2c1C(=O)C(=O)c1c-2ccc2c(C)cccc12</td>\n",
       "      <td>11500.0</td>\n",
       "      <td>inactive</td>\n",
       "      <td>276.291</td>\n",
       "      <td>4.09564</td>\n",
       "      <td>0.0</td>\n",
       "      <td>3.0</td>\n",
       "    </tr>\n",
       "    <tr>\n",
       "      <th>131</th>\n",
       "      <td>CHEMBL227075</td>\n",
       "      <td>Cc1cccc2c3c(ccc12)C1=C(C(=O)C3=O)[C@@H](C)CO1</td>\n",
       "      <td>10700.0</td>\n",
       "      <td>inactive</td>\n",
       "      <td>278.307</td>\n",
       "      <td>3.29102</td>\n",
       "      <td>0.0</td>\n",
       "      <td>3.0</td>\n",
       "    </tr>\n",
       "    <tr>\n",
       "      <th>132</th>\n",
       "      <td>CHEMBL45830</td>\n",
       "      <td>CC(C)C1=Cc2ccc3c(c2C(=O)C1=O)CCCC3(C)C</td>\n",
       "      <td>78900.0</td>\n",
       "      <td>inactive</td>\n",
       "      <td>282.383</td>\n",
       "      <td>4.10530</td>\n",
       "      <td>0.0</td>\n",
       "      <td>2.0</td>\n",
       "    </tr>\n",
       "  </tbody>\n",
       "</table>\n",
       "<p>133 rows × 8 columns</p>\n",
       "</div>"
      ],
      "text/plain": [
       "    molecule_chembl_id                                   canonical_smiles  \\\n",
       "0         CHEMBL187579             Cc1noc(C)c1CN1C(=O)C(=O)c2cc(C#N)ccc21   \n",
       "1         CHEMBL188487             O=C1C(=O)N(Cc2ccc(F)cc2Cl)c2ccc(I)cc21   \n",
       "2         CHEMBL185698            O=C1C(=O)N(CC2COc3ccccc3O2)c2ccc(I)cc21   \n",
       "3         CHEMBL426082                O=C1C(=O)N(Cc2cc3ccccc3s2)c2ccccc21   \n",
       "4         CHEMBL187717    O=C1C(=O)N(Cc2cc3ccccc3s2)c2c1cccc2[N+](=O)[O-]   \n",
       "..                 ...                                                ...   \n",
       "128      CHEMBL2146517  COC(=O)[C@@]1(C)CCCc2c1ccc1c2C(=O)C(=O)c2c(C)c...   \n",
       "129       CHEMBL187460        C[C@H]1COC2=C1C(=O)C(=O)c1c2ccc2c1CCCC2(C)C   \n",
       "130       CHEMBL363535             Cc1coc2c1C(=O)C(=O)c1c-2ccc2c(C)cccc12   \n",
       "131       CHEMBL227075      Cc1cccc2c3c(ccc12)C1=C(C(=O)C3=O)[C@@H](C)CO1   \n",
       "132        CHEMBL45830             CC(C)C1=Cc2ccc3c(c2C(=O)C1=O)CCCC3(C)C   \n",
       "\n",
       "     standard_value bioactivity_class  MolecularWeight     LogP  NumHDonors  \\\n",
       "0            7200.0      intermediate          281.271  1.89262         0.0   \n",
       "1            9400.0      intermediate          415.589  3.81320         0.0   \n",
       "2           13500.0          inactive          421.190  2.66050         0.0   \n",
       "3           13110.0          inactive          293.347  3.63080         0.0   \n",
       "4            2000.0      intermediate          338.344  3.53900         0.0   \n",
       "..              ...               ...              ...      ...         ...   \n",
       "128         10600.0          inactive          338.359  3.40102         0.0   \n",
       "129         10100.0          inactive          296.366  3.44330         0.0   \n",
       "130         11500.0          inactive          276.291  4.09564         0.0   \n",
       "131         10700.0          inactive          278.307  3.29102         0.0   \n",
       "132         78900.0          inactive          282.383  4.10530         0.0   \n",
       "\n",
       "     NumHAcceptors  \n",
       "0              5.0  \n",
       "1              2.0  \n",
       "2              4.0  \n",
       "3              3.0  \n",
       "4              5.0  \n",
       "..             ...  \n",
       "128            5.0  \n",
       "129            3.0  \n",
       "130            3.0  \n",
       "131            3.0  \n",
       "132            2.0  \n",
       "\n",
       "[133 rows x 8 columns]"
      ]
     },
     "execution_count": 6,
     "metadata": {},
     "output_type": "execute_result"
    }
   ],
   "source": [
    "df_combined = pd.concat ([df, df_lipinski], axis = 1)\n",
    "df_combined"
   ]
  },
  {
   "cell_type": "markdown",
   "id": "25cc36c7-5f09-443d-9a07-e85afcaff30e",
   "metadata": {},
   "source": [
    "#### **Conversion of IC50 values into PIC 50 values**\n",
    "**`PIC50 = - log10 (IC50)`**\n",
    "1. This is being done for the IC50 values to be more uniformly distributed.\n",
    "2. The IC50 values are contained in the standard value column, and they are in nM (nano Molar Unit).  \n",
    "3. We'll multiply them with 10^9 to convert them to Molar (from nano Molar).  \n",
    "4. Then, we'll find the -log10 to convert the IC50 values into PIC50.  "
   ]
  },
  {
   "cell_type": "code",
   "execution_count": 7,
   "id": "6731dc1d-f454-45b9-9cfd-d68219ac52e4",
   "metadata": {},
   "outputs": [
    {
     "data": {
      "text/plain": [
       "count    1.330000e+02\n",
       "mean     8.017926e+12\n",
       "std      3.344888e+13\n",
       "min      5.000000e+01\n",
       "25%      1.070000e+04\n",
       "50%      2.350000e+04\n",
       "75%      3.000000e+05\n",
       "max      3.311311e+14\n",
       "Name: standard_value, dtype: float64"
      ]
     },
     "execution_count": 7,
     "metadata": {},
     "output_type": "execute_result"
    }
   ],
   "source": [
    "df_combined.standard_value.describe ()"
   ]
  },
  {
   "cell_type": "markdown",
   "id": "b2c19192-6cd7-4dee-993c-ab7a27636eb0",
   "metadata": {},
   "source": [
    "#### Step 1 : Cap the values to 100000000"
   ]
  },
  {
   "cell_type": "code",
   "execution_count": 8,
   "id": "c7c52d06-ff06-4ee1-9c34-1272c40c3fa4",
   "metadata": {},
   "outputs": [
    {
     "data": {
      "text/html": [
       "<div>\n",
       "<style scoped>\n",
       "    .dataframe tbody tr th:only-of-type {\n",
       "        vertical-align: middle;\n",
       "    }\n",
       "\n",
       "    .dataframe tbody tr th {\n",
       "        vertical-align: top;\n",
       "    }\n",
       "\n",
       "    .dataframe thead th {\n",
       "        text-align: right;\n",
       "    }\n",
       "</style>\n",
       "<table border=\"1\" class=\"dataframe\">\n",
       "  <thead>\n",
       "    <tr style=\"text-align: right;\">\n",
       "      <th></th>\n",
       "      <th>molecule_chembl_id</th>\n",
       "      <th>canonical_smiles</th>\n",
       "      <th>bioactivity_class</th>\n",
       "      <th>MolecularWeight</th>\n",
       "      <th>LogP</th>\n",
       "      <th>NumHDonors</th>\n",
       "      <th>NumHAcceptors</th>\n",
       "      <th>standard_value_capped</th>\n",
       "    </tr>\n",
       "  </thead>\n",
       "  <tbody>\n",
       "    <tr>\n",
       "      <th>0</th>\n",
       "      <td>CHEMBL187579</td>\n",
       "      <td>Cc1noc(C)c1CN1C(=O)C(=O)c2cc(C#N)ccc21</td>\n",
       "      <td>intermediate</td>\n",
       "      <td>281.271</td>\n",
       "      <td>1.89262</td>\n",
       "      <td>0.0</td>\n",
       "      <td>5.0</td>\n",
       "      <td>7200.0</td>\n",
       "    </tr>\n",
       "    <tr>\n",
       "      <th>1</th>\n",
       "      <td>CHEMBL188487</td>\n",
       "      <td>O=C1C(=O)N(Cc2ccc(F)cc2Cl)c2ccc(I)cc21</td>\n",
       "      <td>intermediate</td>\n",
       "      <td>415.589</td>\n",
       "      <td>3.81320</td>\n",
       "      <td>0.0</td>\n",
       "      <td>2.0</td>\n",
       "      <td>9400.0</td>\n",
       "    </tr>\n",
       "    <tr>\n",
       "      <th>2</th>\n",
       "      <td>CHEMBL185698</td>\n",
       "      <td>O=C1C(=O)N(CC2COc3ccccc3O2)c2ccc(I)cc21</td>\n",
       "      <td>inactive</td>\n",
       "      <td>421.190</td>\n",
       "      <td>2.66050</td>\n",
       "      <td>0.0</td>\n",
       "      <td>4.0</td>\n",
       "      <td>13500.0</td>\n",
       "    </tr>\n",
       "    <tr>\n",
       "      <th>3</th>\n",
       "      <td>CHEMBL426082</td>\n",
       "      <td>O=C1C(=O)N(Cc2cc3ccccc3s2)c2ccccc21</td>\n",
       "      <td>inactive</td>\n",
       "      <td>293.347</td>\n",
       "      <td>3.63080</td>\n",
       "      <td>0.0</td>\n",
       "      <td>3.0</td>\n",
       "      <td>13110.0</td>\n",
       "    </tr>\n",
       "    <tr>\n",
       "      <th>4</th>\n",
       "      <td>CHEMBL187717</td>\n",
       "      <td>O=C1C(=O)N(Cc2cc3ccccc3s2)c2c1cccc2[N+](=O)[O-]</td>\n",
       "      <td>intermediate</td>\n",
       "      <td>338.344</td>\n",
       "      <td>3.53900</td>\n",
       "      <td>0.0</td>\n",
       "      <td>5.0</td>\n",
       "      <td>2000.0</td>\n",
       "    </tr>\n",
       "    <tr>\n",
       "      <th>...</th>\n",
       "      <td>...</td>\n",
       "      <td>...</td>\n",
       "      <td>...</td>\n",
       "      <td>...</td>\n",
       "      <td>...</td>\n",
       "      <td>...</td>\n",
       "      <td>...</td>\n",
       "      <td>...</td>\n",
       "    </tr>\n",
       "    <tr>\n",
       "      <th>128</th>\n",
       "      <td>CHEMBL2146517</td>\n",
       "      <td>COC(=O)[C@@]1(C)CCCc2c1ccc1c2C(=O)C(=O)c2c(C)c...</td>\n",
       "      <td>inactive</td>\n",
       "      <td>338.359</td>\n",
       "      <td>3.40102</td>\n",
       "      <td>0.0</td>\n",
       "      <td>5.0</td>\n",
       "      <td>10600.0</td>\n",
       "    </tr>\n",
       "    <tr>\n",
       "      <th>129</th>\n",
       "      <td>CHEMBL187460</td>\n",
       "      <td>C[C@H]1COC2=C1C(=O)C(=O)c1c2ccc2c1CCCC2(C)C</td>\n",
       "      <td>inactive</td>\n",
       "      <td>296.366</td>\n",
       "      <td>3.44330</td>\n",
       "      <td>0.0</td>\n",
       "      <td>3.0</td>\n",
       "      <td>10100.0</td>\n",
       "    </tr>\n",
       "    <tr>\n",
       "      <th>130</th>\n",
       "      <td>CHEMBL363535</td>\n",
       "      <td>Cc1coc2c1C(=O)C(=O)c1c-2ccc2c(C)cccc12</td>\n",
       "      <td>inactive</td>\n",
       "      <td>276.291</td>\n",
       "      <td>4.09564</td>\n",
       "      <td>0.0</td>\n",
       "      <td>3.0</td>\n",
       "      <td>11500.0</td>\n",
       "    </tr>\n",
       "    <tr>\n",
       "      <th>131</th>\n",
       "      <td>CHEMBL227075</td>\n",
       "      <td>Cc1cccc2c3c(ccc12)C1=C(C(=O)C3=O)[C@@H](C)CO1</td>\n",
       "      <td>inactive</td>\n",
       "      <td>278.307</td>\n",
       "      <td>3.29102</td>\n",
       "      <td>0.0</td>\n",
       "      <td>3.0</td>\n",
       "      <td>10700.0</td>\n",
       "    </tr>\n",
       "    <tr>\n",
       "      <th>132</th>\n",
       "      <td>CHEMBL45830</td>\n",
       "      <td>CC(C)C1=Cc2ccc3c(c2C(=O)C1=O)CCCC3(C)C</td>\n",
       "      <td>inactive</td>\n",
       "      <td>282.383</td>\n",
       "      <td>4.10530</td>\n",
       "      <td>0.0</td>\n",
       "      <td>2.0</td>\n",
       "      <td>78900.0</td>\n",
       "    </tr>\n",
       "  </tbody>\n",
       "</table>\n",
       "<p>133 rows × 8 columns</p>\n",
       "</div>"
      ],
      "text/plain": [
       "    molecule_chembl_id                                   canonical_smiles  \\\n",
       "0         CHEMBL187579             Cc1noc(C)c1CN1C(=O)C(=O)c2cc(C#N)ccc21   \n",
       "1         CHEMBL188487             O=C1C(=O)N(Cc2ccc(F)cc2Cl)c2ccc(I)cc21   \n",
       "2         CHEMBL185698            O=C1C(=O)N(CC2COc3ccccc3O2)c2ccc(I)cc21   \n",
       "3         CHEMBL426082                O=C1C(=O)N(Cc2cc3ccccc3s2)c2ccccc21   \n",
       "4         CHEMBL187717    O=C1C(=O)N(Cc2cc3ccccc3s2)c2c1cccc2[N+](=O)[O-]   \n",
       "..                 ...                                                ...   \n",
       "128      CHEMBL2146517  COC(=O)[C@@]1(C)CCCc2c1ccc1c2C(=O)C(=O)c2c(C)c...   \n",
       "129       CHEMBL187460        C[C@H]1COC2=C1C(=O)C(=O)c1c2ccc2c1CCCC2(C)C   \n",
       "130       CHEMBL363535             Cc1coc2c1C(=O)C(=O)c1c-2ccc2c(C)cccc12   \n",
       "131       CHEMBL227075      Cc1cccc2c3c(ccc12)C1=C(C(=O)C3=O)[C@@H](C)CO1   \n",
       "132        CHEMBL45830             CC(C)C1=Cc2ccc3c(c2C(=O)C1=O)CCCC3(C)C   \n",
       "\n",
       "    bioactivity_class  MolecularWeight     LogP  NumHDonors  NumHAcceptors  \\\n",
       "0        intermediate          281.271  1.89262         0.0            5.0   \n",
       "1        intermediate          415.589  3.81320         0.0            2.0   \n",
       "2            inactive          421.190  2.66050         0.0            4.0   \n",
       "3            inactive          293.347  3.63080         0.0            3.0   \n",
       "4        intermediate          338.344  3.53900         0.0            5.0   \n",
       "..                ...              ...      ...         ...            ...   \n",
       "128          inactive          338.359  3.40102         0.0            5.0   \n",
       "129          inactive          296.366  3.44330         0.0            3.0   \n",
       "130          inactive          276.291  4.09564         0.0            3.0   \n",
       "131          inactive          278.307  3.29102         0.0            3.0   \n",
       "132          inactive          282.383  4.10530         0.0            2.0   \n",
       "\n",
       "     standard_value_capped  \n",
       "0                   7200.0  \n",
       "1                   9400.0  \n",
       "2                  13500.0  \n",
       "3                  13110.0  \n",
       "4                   2000.0  \n",
       "..                     ...  \n",
       "128                10600.0  \n",
       "129                10100.0  \n",
       "130                11500.0  \n",
       "131                10700.0  \n",
       "132                78900.0  \n",
       "\n",
       "[133 rows x 8 columns]"
      ]
     },
     "execution_count": 8,
     "metadata": {},
     "output_type": "execute_result"
    }
   ],
   "source": [
    "standard_values_capped = []\n",
    "for standard_value in df_combined.values [:, 2] :\n",
    "    if standard_value > 100000000 :\n",
    "        standard_values_capped.append (100000000)\n",
    "    \n",
    "    else :\n",
    "        standard_values_capped.append (standard_value)\n",
    "        \n",
    "df_combined ['standard_value_capped'] = standard_values_capped\n",
    "df_capped = df_combined.drop ('standard_value', axis = 1)\n",
    "df_capped.standard_value_capped.describe ()\n",
    "df_capped"
   ]
  },
  {
   "cell_type": "markdown",
   "id": "6b09151b-6015-43bd-9ac2-ecce34f08ef1",
   "metadata": {},
   "source": [
    "#### Step 2 : Convert IC50 values to PIC50"
   ]
  },
  {
   "cell_type": "code",
   "execution_count": 9,
   "id": "820e3fca-c9d1-4c58-a632-ac1f46cb4652",
   "metadata": {},
   "outputs": [],
   "source": [
    "# Convert from nM (nano Molar) to Molar by multiplying by 10^-9\n",
    "df_capped.standard_value_capped = df_capped.standard_value_capped * 1e-9"
   ]
  },
  {
   "cell_type": "markdown",
   "id": "129dcdca-063e-45c7-888d-0161a2968e43",
   "metadata": {},
   "source": [
    "#### **Convert from IC50 to PIC50 using :**\n",
    "**`PIC50 = - log10 (IC50)`**"
   ]
  },
  {
   "cell_type": "code",
   "execution_count": 10,
   "id": "618856ee-44df-4b64-bf75-a0e57e9efe53",
   "metadata": {},
   "outputs": [],
   "source": [
    "df_capped_PIC50 = df_capped.copy ()\n",
    "df_capped_PIC50 = df_capped_PIC50.rename (columns = {\"standard_value_capped\": \"PIC50\"})\n",
    "df_capped_PIC50.PIC50 = -np.log10 (df_capped_PIC50.PIC50.values)"
   ]
  },
  {
   "cell_type": "code",
   "execution_count": 11,
   "id": "251460a0-916b-4597-b501-cd2a6e1eaf08",
   "metadata": {},
   "outputs": [
    {
     "name": "stdout",
     "output_type": "stream",
     "text": [
      "  molecule_chembl_id                                 canonical_smiles  \\\n",
      "0       CHEMBL187579           Cc1noc(C)c1CN1C(=O)C(=O)c2cc(C#N)ccc21   \n",
      "1       CHEMBL188487           O=C1C(=O)N(Cc2ccc(F)cc2Cl)c2ccc(I)cc21   \n",
      "2       CHEMBL185698          O=C1C(=O)N(CC2COc3ccccc3O2)c2ccc(I)cc21   \n",
      "3       CHEMBL426082              O=C1C(=O)N(Cc2cc3ccccc3s2)c2ccccc21   \n",
      "4       CHEMBL187717  O=C1C(=O)N(Cc2cc3ccccc3s2)c2c1cccc2[N+](=O)[O-]   \n",
      "\n",
      "  bioactivity_class  MolecularWeight     LogP  NumHDonors  NumHAcceptors  \\\n",
      "0      intermediate          281.271  1.89262         0.0            5.0   \n",
      "1      intermediate          415.589  3.81320         0.0            2.0   \n",
      "2          inactive          421.190  2.66050         0.0            4.0   \n",
      "3          inactive          293.347  3.63080         0.0            3.0   \n",
      "4      intermediate          338.344  3.53900         0.0            5.0   \n",
      "\n",
      "      PIC50  \n",
      "0  5.142668  \n",
      "1  5.026872  \n",
      "2  4.869666  \n",
      "3  4.882397  \n",
      "4  5.698970  \n",
      "  molecule_chembl_id                                 canonical_smiles  \\\n",
      "0       CHEMBL187579           Cc1noc(C)c1CN1C(=O)C(=O)c2cc(C#N)ccc21   \n",
      "1       CHEMBL188487           O=C1C(=O)N(Cc2ccc(F)cc2Cl)c2ccc(I)cc21   \n",
      "2       CHEMBL185698          O=C1C(=O)N(CC2COc3ccccc3O2)c2ccc(I)cc21   \n",
      "3       CHEMBL426082              O=C1C(=O)N(Cc2cc3ccccc3s2)c2ccccc21   \n",
      "4       CHEMBL187717  O=C1C(=O)N(Cc2cc3ccccc3s2)c2c1cccc2[N+](=O)[O-]   \n",
      "\n",
      "  bioactivity_class  MolecularWeight     LogP  NumHDonors  NumHAcceptors  \\\n",
      "0      intermediate          281.271  1.89262         0.0            5.0   \n",
      "1      intermediate          415.589  3.81320         0.0            2.0   \n",
      "2          inactive          421.190  2.66050         0.0            4.0   \n",
      "3          inactive          293.347  3.63080         0.0            3.0   \n",
      "4      intermediate          338.344  3.53900         0.0            5.0   \n",
      "\n",
      "   standard_value_capped  \n",
      "0               0.000007  \n",
      "1               0.000009  \n",
      "2               0.000014  \n",
      "3               0.000013  \n",
      "4               0.000002  \n"
     ]
    }
   ],
   "source": [
    "print (df_capped_PIC50.head (5))\n",
    "print (df_capped.head (5))"
   ]
  },
  {
   "cell_type": "code",
   "execution_count": 12,
   "id": "6f2ae1c7-054f-4f55-bf84-11e5c6cbbc30",
   "metadata": {},
   "outputs": [
    {
     "name": "stdout",
     "output_type": "stream",
     "text": [
      "count    1.330000e+02\n",
      "mean     2.110164e-02\n",
      "std      4.089714e-02\n",
      "min      5.000000e-08\n",
      "25%      1.070000e-05\n",
      "50%      2.350000e-05\n",
      "75%      3.000000e-04\n",
      "max      1.000000e-01\n",
      "Name: standard_value_capped, dtype: float64\n",
      "count    133.000000\n",
      "mean       4.060148\n",
      "std        1.783762\n",
      "min        1.000000\n",
      "25%        3.522879\n",
      "50%        4.628932\n",
      "75%        4.970616\n",
      "max        7.301030\n",
      "Name: PIC50, dtype: float64\n"
     ]
    }
   ],
   "source": [
    "print (df_capped.standard_value_capped.describe ())\n",
    "print (df_capped_PIC50.PIC50.describe ())"
   ]
  },
  {
   "cell_type": "markdown",
   "id": "3f651ba9-79c1-4abe-bae9-d0c6a3255f54",
   "metadata": {},
   "source": [
    "#### **Remove the intermediate Bio-Activity class from the dataset**\n",
    "##### This is being done to get a simple comparison between the two Bio-Activity classes"
   ]
  },
  {
   "cell_type": "code",
   "execution_count": 15,
   "id": "74ffc416-788f-433f-a334-0dfedfc96f30",
   "metadata": {},
   "outputs": [
    {
     "data": {
      "text/html": [
       "<div>\n",
       "<style scoped>\n",
       "    .dataframe tbody tr th:only-of-type {\n",
       "        vertical-align: middle;\n",
       "    }\n",
       "\n",
       "    .dataframe tbody tr th {\n",
       "        vertical-align: top;\n",
       "    }\n",
       "\n",
       "    .dataframe thead th {\n",
       "        text-align: right;\n",
       "    }\n",
       "</style>\n",
       "<table border=\"1\" class=\"dataframe\">\n",
       "  <thead>\n",
       "    <tr style=\"text-align: right;\">\n",
       "      <th></th>\n",
       "      <th>molecule_chembl_id</th>\n",
       "      <th>canonical_smiles</th>\n",
       "      <th>bioactivity_class</th>\n",
       "      <th>MolecularWeight</th>\n",
       "      <th>LogP</th>\n",
       "      <th>NumHDonors</th>\n",
       "      <th>NumHAcceptors</th>\n",
       "      <th>PIC50</th>\n",
       "    </tr>\n",
       "  </thead>\n",
       "  <tbody>\n",
       "    <tr>\n",
       "      <th>2</th>\n",
       "      <td>CHEMBL185698</td>\n",
       "      <td>O=C1C(=O)N(CC2COc3ccccc3O2)c2ccc(I)cc21</td>\n",
       "      <td>inactive</td>\n",
       "      <td>421.190</td>\n",
       "      <td>2.66050</td>\n",
       "      <td>0.0</td>\n",
       "      <td>4.0</td>\n",
       "      <td>4.869666</td>\n",
       "    </tr>\n",
       "    <tr>\n",
       "      <th>3</th>\n",
       "      <td>CHEMBL426082</td>\n",
       "      <td>O=C1C(=O)N(Cc2cc3ccccc3s2)c2ccccc21</td>\n",
       "      <td>inactive</td>\n",
       "      <td>293.347</td>\n",
       "      <td>3.63080</td>\n",
       "      <td>0.0</td>\n",
       "      <td>3.0</td>\n",
       "      <td>4.882397</td>\n",
       "    </tr>\n",
       "    <tr>\n",
       "      <th>5</th>\n",
       "      <td>CHEMBL365134</td>\n",
       "      <td>O=C1C(=O)N(Cc2cc3ccccc3s2)c2c(Br)cccc21</td>\n",
       "      <td>active</td>\n",
       "      <td>372.243</td>\n",
       "      <td>4.39330</td>\n",
       "      <td>0.0</td>\n",
       "      <td>3.0</td>\n",
       "      <td>6.008774</td>\n",
       "    </tr>\n",
       "    <tr>\n",
       "      <th>7</th>\n",
       "      <td>CHEMBL190743</td>\n",
       "      <td>O=C1C(=O)N(Cc2cc3ccccc3s2)c2ccc(I)cc21</td>\n",
       "      <td>active</td>\n",
       "      <td>419.243</td>\n",
       "      <td>4.23540</td>\n",
       "      <td>0.0</td>\n",
       "      <td>3.0</td>\n",
       "      <td>6.022276</td>\n",
       "    </tr>\n",
       "    <tr>\n",
       "      <th>8</th>\n",
       "      <td>CHEMBL365469</td>\n",
       "      <td>O=C1C(=O)N(Cc2cc3ccccc3s2)c2cccc(Cl)c21</td>\n",
       "      <td>inactive</td>\n",
       "      <td>327.792</td>\n",
       "      <td>4.28420</td>\n",
       "      <td>0.0</td>\n",
       "      <td>3.0</td>\n",
       "      <td>4.950782</td>\n",
       "    </tr>\n",
       "    <tr>\n",
       "      <th>...</th>\n",
       "      <td>...</td>\n",
       "      <td>...</td>\n",
       "      <td>...</td>\n",
       "      <td>...</td>\n",
       "      <td>...</td>\n",
       "      <td>...</td>\n",
       "      <td>...</td>\n",
       "      <td>...</td>\n",
       "    </tr>\n",
       "    <tr>\n",
       "      <th>128</th>\n",
       "      <td>CHEMBL2146517</td>\n",
       "      <td>COC(=O)[C@@]1(C)CCCc2c1ccc1c2C(=O)C(=O)c2c(C)c...</td>\n",
       "      <td>inactive</td>\n",
       "      <td>338.359</td>\n",
       "      <td>3.40102</td>\n",
       "      <td>0.0</td>\n",
       "      <td>5.0</td>\n",
       "      <td>4.974694</td>\n",
       "    </tr>\n",
       "    <tr>\n",
       "      <th>129</th>\n",
       "      <td>CHEMBL187460</td>\n",
       "      <td>C[C@H]1COC2=C1C(=O)C(=O)c1c2ccc2c1CCCC2(C)C</td>\n",
       "      <td>inactive</td>\n",
       "      <td>296.366</td>\n",
       "      <td>3.44330</td>\n",
       "      <td>0.0</td>\n",
       "      <td>3.0</td>\n",
       "      <td>4.995679</td>\n",
       "    </tr>\n",
       "    <tr>\n",
       "      <th>130</th>\n",
       "      <td>CHEMBL363535</td>\n",
       "      <td>Cc1coc2c1C(=O)C(=O)c1c-2ccc2c(C)cccc12</td>\n",
       "      <td>inactive</td>\n",
       "      <td>276.291</td>\n",
       "      <td>4.09564</td>\n",
       "      <td>0.0</td>\n",
       "      <td>3.0</td>\n",
       "      <td>4.939302</td>\n",
       "    </tr>\n",
       "    <tr>\n",
       "      <th>131</th>\n",
       "      <td>CHEMBL227075</td>\n",
       "      <td>Cc1cccc2c3c(ccc12)C1=C(C(=O)C3=O)[C@@H](C)CO1</td>\n",
       "      <td>inactive</td>\n",
       "      <td>278.307</td>\n",
       "      <td>3.29102</td>\n",
       "      <td>0.0</td>\n",
       "      <td>3.0</td>\n",
       "      <td>4.970616</td>\n",
       "    </tr>\n",
       "    <tr>\n",
       "      <th>132</th>\n",
       "      <td>CHEMBL45830</td>\n",
       "      <td>CC(C)C1=Cc2ccc3c(c2C(=O)C1=O)CCCC3(C)C</td>\n",
       "      <td>inactive</td>\n",
       "      <td>282.383</td>\n",
       "      <td>4.10530</td>\n",
       "      <td>0.0</td>\n",
       "      <td>2.0</td>\n",
       "      <td>4.102923</td>\n",
       "    </tr>\n",
       "  </tbody>\n",
       "</table>\n",
       "<p>119 rows × 8 columns</p>\n",
       "</div>"
      ],
      "text/plain": [
       "    molecule_chembl_id                                   canonical_smiles  \\\n",
       "2         CHEMBL185698            O=C1C(=O)N(CC2COc3ccccc3O2)c2ccc(I)cc21   \n",
       "3         CHEMBL426082                O=C1C(=O)N(Cc2cc3ccccc3s2)c2ccccc21   \n",
       "5         CHEMBL365134            O=C1C(=O)N(Cc2cc3ccccc3s2)c2c(Br)cccc21   \n",
       "7         CHEMBL190743             O=C1C(=O)N(Cc2cc3ccccc3s2)c2ccc(I)cc21   \n",
       "8         CHEMBL365469            O=C1C(=O)N(Cc2cc3ccccc3s2)c2cccc(Cl)c21   \n",
       "..                 ...                                                ...   \n",
       "128      CHEMBL2146517  COC(=O)[C@@]1(C)CCCc2c1ccc1c2C(=O)C(=O)c2c(C)c...   \n",
       "129       CHEMBL187460        C[C@H]1COC2=C1C(=O)C(=O)c1c2ccc2c1CCCC2(C)C   \n",
       "130       CHEMBL363535             Cc1coc2c1C(=O)C(=O)c1c-2ccc2c(C)cccc12   \n",
       "131       CHEMBL227075      Cc1cccc2c3c(ccc12)C1=C(C(=O)C3=O)[C@@H](C)CO1   \n",
       "132        CHEMBL45830             CC(C)C1=Cc2ccc3c(c2C(=O)C1=O)CCCC3(C)C   \n",
       "\n",
       "    bioactivity_class  MolecularWeight     LogP  NumHDonors  NumHAcceptors  \\\n",
       "2            inactive          421.190  2.66050         0.0            4.0   \n",
       "3            inactive          293.347  3.63080         0.0            3.0   \n",
       "5              active          372.243  4.39330         0.0            3.0   \n",
       "7              active          419.243  4.23540         0.0            3.0   \n",
       "8            inactive          327.792  4.28420         0.0            3.0   \n",
       "..                ...              ...      ...         ...            ...   \n",
       "128          inactive          338.359  3.40102         0.0            5.0   \n",
       "129          inactive          296.366  3.44330         0.0            3.0   \n",
       "130          inactive          276.291  4.09564         0.0            3.0   \n",
       "131          inactive          278.307  3.29102         0.0            3.0   \n",
       "132          inactive          282.383  4.10530         0.0            2.0   \n",
       "\n",
       "        PIC50  \n",
       "2    4.869666  \n",
       "3    4.882397  \n",
       "5    6.008774  \n",
       "7    6.022276  \n",
       "8    4.950782  \n",
       "..        ...  \n",
       "128  4.974694  \n",
       "129  4.995679  \n",
       "130  4.939302  \n",
       "131  4.970616  \n",
       "132  4.102923  \n",
       "\n",
       "[119 rows x 8 columns]"
      ]
     },
     "execution_count": 15,
     "metadata": {},
     "output_type": "execute_result"
    }
   ],
   "source": [
    "df_two_class = df_capped_PIC50 [df_capped_PIC50.bioactivity_class != 'intermediate']\n",
    "df_two_class.to_csv (\"bioactivity_two_class_pic50.csv\")\n",
    "df_two_class"
   ]
  },
  {
   "cell_type": "markdown",
   "id": "18c97a87-f882-42e8-9dd2-07445b4742c5",
   "metadata": {},
   "source": [
    "#### **Exploratory Data Analysis (Chemical Space Analysis) via Lipinski descriptors**"
   ]
  },
  {
   "cell_type": "markdown",
   "id": "7011c5ee-77f9-469a-b04f-7e453893b329",
   "metadata": {},
   "source": [
    "##### **Import Libraries**"
   ]
  },
  {
   "cell_type": "markdown",
   "id": "fd3980ed-cca0-4624-99eb-6731cf95d66f",
   "metadata": {},
   "source": [
    "import seaborn as sns\n",
    "sns.set (style = 'ticks')\n",
    "import matplotlib.pyplot as plt"
   ]
  },
  {
   "cell_type": "markdown",
   "id": "3ca7da35-1cc6-421d-9d26-393e3c12f450",
   "metadata": {},
   "source": [
    "#### **Frequency plots for bioactivity class**"
   ]
  },
  {
   "cell_type": "code",
   "execution_count": 14,
   "id": "66aae2fd-b7e1-4740-8d80-bdbbb4605b49",
   "metadata": {},
   "outputs": [
    {
     "data": {
      "text/plain": [
       "Text(0, 0.5, 'Frequency')"
      ]
     },
     "execution_count": 14,
     "metadata": {},
     "output_type": "execute_result"
    },
    {
     "data": {
      "image/png": "[encoded data removed]",
      "text/plain": [
       "<Figure size 432x288 with 1 Axes>"
      ]
     },
     "metadata": {
      "needs_background": "light"
     },
     "output_type": "display_data"
    }
   ],
   "source": [
    "import matplotlib.pyplot as plt\n",
    "import seaborn as sns\n",
    "\n",
    "sns.countplot (x = 'bioactivity_class', data = df_two_class, edgecolor = 'black')\n",
    "plt.xlabel (\"Bioactivity Class\")\n",
    "plt.ylabel (\"Frequency\")"
   ]
  },
  {
   "cell_type": "markdown",
   "id": "651fdc22-d525-4ab7-aaab-0c7e1ea4d391",
   "metadata": {},
   "source": [
    "#### **Scatter plot of Molecular Weight vs. Log (P)**"
   ]
  },
  {
   "cell_type": "code",
   "execution_count": 15,
   "id": "92bce55d-cb7d-4d78-bd73-3cd9ca44d97b",
   "metadata": {},
   "outputs": [
    {
     "data": {
      "image/png": "[encoded data removed]",
      "text/plain": [
       "<Figure size 720x504 with 1 Axes>"
      ]
     },
     "metadata": {
      "needs_background": "light"
     },
     "output_type": "display_data"
    }
   ],
   "source": [
    "plt.figure (figsize = (10, 7))\n",
    "sns.scatterplot (x = 'MolecularWeight',\n",
    "                 y = 'LogP', hue = 'bioactivity_class',\n",
    "                 data = df_two_class,\n",
    "                 size = 'PIC50',\n",
    "                 edgecolor = 'black')\n",
    "\n",
    "plt.xlabel (\"Molecular Weight\", fontweight = 'bold')\n",
    "plt.ylabel (\"LogP\", fontweight = 'bold')\n",
    "plt.savefig (os.path.join (\"Observations\", \"Scatter_Mol_Wt_vs_LogP.pdf\"))"
   ]
  },
  {
   "cell_type": "markdown",
   "id": "54bb1504-5b3a-47c9-89af-6249ce24a52b",
   "metadata": {},
   "source": [
    "#### **Box Plots**"
   ]
  },
  {
   "cell_type": "markdown",
   "id": "41faba82-651b-42c2-b25a-617e44120e4f",
   "metadata": {},
   "source": [
    "##### **Bioactivity Class vs. PIC50**"
   ]
  },
  {
   "cell_type": "code",
   "execution_count": 16,
   "id": "c06f8ace-4a3b-4126-b871-e4218a7f34d2",
   "metadata": {},
   "outputs": [
    {
     "data": {
      "image/png": "[encoded data removed]",
      "text/plain": [
       "<Figure size 504x720 with 1 Axes>"
      ]
     },
     "metadata": {
      "needs_background": "light"
     },
     "output_type": "display_data"
    }
   ],
   "source": [
    "plt.figure (figsize = (7, 10))\n",
    "sns.boxplot (x = 'bioactivity_class', y = 'PIC50', data = df_two_class)\n",
    "plt.xlabel ('Bioactivity Class')\n",
    "plt.ylabel ('PIC50')\n",
    "plt.savefig (os.path.join (\"Observations\", \"Box_Bioactivity_vs_PIC50.pdf\"))"
   ]
  },
  {
   "cell_type": "markdown",
   "id": "afe3ba39-6ad1-4c7e-a20d-4a0fd074d828",
   "metadata": {},
   "source": [
    "#### **Statistical Analysis - Matt Whitney U Test**"
   ]
  },
  {
   "cell_type": "markdown",
   "id": "8b16524a-84f5-48bb-99e6-ea12e24cb5a9",
   "metadata": {},
   "source": [
    "##### **\"Statistical Significance\"** refers to the probability that the observed result could have occurred randomly if it has no true underlying effect. ... If you run statistical tests on questions that are likely to be true, your findings are less likely to be false.\n",
    "##### **Source :** https://www.nngroup.com/articles/understanding-statistical-significance/\n",
    "##### **In other words, if a result exists in the sample, then we have evidence that it also exists in the population**\n",
    "##### **We can use p-value to find statistical significance**"
   ]
  },
  {
   "cell_type": "code",
   "execution_count": 33,
   "id": "236d4697-9802-48f7-86a3-a552f0655ca8",
   "metadata": {},
   "outputs": [],
   "source": [
    "def mann_whitney (descriptor) :\n",
    "    from numpy.random import seed, randn\n",
    "    from scipy.stats import mannwhitneyu\n",
    "    \n",
    "    # Seed the Random Number Generator\n",
    "    seed (1)\n",
    "    \n",
    "    # Actives and inactives\n",
    "    selection = [descriptor, 'bioactivity_class']\n",
    "    df = df_two_class [selection]\n",
    "    active = df [df.bioactivity_class == 'active']\n",
    "    active = active [descriptor]\n",
    "    \n",
    "    selection = [descriptor, 'bioactivity_class']\n",
    "    df = df_two_class [selection]\n",
    "    inactive = df [df.bioactivity_class == 'inactive']\n",
    "    inactive = inactive [descriptor]\n",
    "    \n",
    "    stat, p = mannwhitneyu (active, inactive)\n",
    "    \n",
    "    alpha = 0.05\n",
    "    if p > alpha :\n",
    "        interpretation = 'Same distribution (fail to reject H0)'\n",
    "    else :\n",
    "        interpretation = 'Different distribution (reject H0)'\n",
    "        \n",
    "    results = pd.DataFrame ({'Descriptor' : descriptor,\n",
    "                             'Statistics' : stat,\n",
    "                             'p' : p,\n",
    "                             'alpha' : alpha,\n",
    "                             'Interpretation' : interpretation}, index = [0])\n",
    "    \n",
    "    filename = 'mannwhitneyu_' + descriptor + '.csv'\n",
    "    results.to_csv (filename)\n",
    "    return results"
   ]
  },
  {
   "cell_type": "code",
   "execution_count": 38,
   "id": "98c637c9-e093-4786-9dad-b36e436eb616",
   "metadata": {},
   "outputs": [
    {
     "data": {
      "text/html": [
       "<div>\n",
       "<style scoped>\n",
       "    .dataframe tbody tr th:only-of-type {\n",
       "        vertical-align: middle;\n",
       "    }\n",
       "\n",
       "    .dataframe tbody tr th {\n",
       "        vertical-align: top;\n",
       "    }\n",
       "\n",
       "    .dataframe thead th {\n",
       "        text-align: right;\n",
       "    }\n",
       "</style>\n",
       "<table border=\"1\" class=\"dataframe\">\n",
       "  <thead>\n",
       "    <tr style=\"text-align: right;\">\n",
       "      <th></th>\n",
       "      <th>Descriptor</th>\n",
       "      <th>Statistics</th>\n",
       "      <th>p</th>\n",
       "      <th>alpha</th>\n",
       "      <th>Interpretation</th>\n",
       "    </tr>\n",
       "  </thead>\n",
       "  <tbody>\n",
       "    <tr>\n",
       "      <th>0</th>\n",
       "      <td>PIC50</td>\n",
       "      <td>1560.0</td>\n",
       "      <td>3.325272e-10</td>\n",
       "      <td>0.05</td>\n",
       "      <td>Different distribution (reject H0)</td>\n",
       "    </tr>\n",
       "  </tbody>\n",
       "</table>\n",
       "</div>"
      ],
      "text/plain": [
       "  Descriptor  Statistics             p  alpha  \\\n",
       "0      PIC50      1560.0  3.325272e-10   0.05   \n",
       "\n",
       "                       Interpretation  \n",
       "0  Different distribution (reject H0)  "
      ]
     },
     "execution_count": 38,
     "metadata": {},
     "output_type": "execute_result"
    }
   ],
   "source": [
    "mann_whitney ('PIC50')"
   ]
  },
  {
   "cell_type": "markdown",
   "id": "5c23e38c-fd28-4946-89c5-19edc6c194b9",
   "metadata": {},
   "source": [
    "#### **Molecular Weight**"
   ]
  },
  {
   "cell_type": "code",
   "execution_count": 40,
   "id": "1350f1b3-04bb-44a1-9326-4596557d965c",
   "metadata": {},
   "outputs": [
    {
     "data": {
      "text/plain": [
       "<AxesSubplot:xlabel='bioactivity_class', ylabel='MolecularWeight'>"
      ]
     },
     "execution_count": 40,
     "metadata": {},
     "output_type": "execute_result"
    },
    {
     "data": {
      "image/png": "[encoded data removed]",
      "text/plain": [
       "<Figure size 432x288 with 1 Axes>"
      ]
     },
     "metadata": {
      "needs_background": "light"
     },
     "output_type": "display_data"
    }
   ],
   "source": [
    "sns.boxplot (x = 'bioactivity_class',\n",
    "             y = 'MolecularWeight',\n",
    "             data = df_two_class)"
   ]
  },
  {
   "cell_type": "code",
   "execution_count": 41,
   "id": "ea02a8c8-4812-44ed-9784-58af8faf2a7c",
   "metadata": {},
   "outputs": [
    {
     "data": {
      "text/html": [
       "<div>\n",
       "<style scoped>\n",
       "    .dataframe tbody tr th:only-of-type {\n",
       "        vertical-align: middle;\n",
       "    }\n",
       "\n",
       "    .dataframe tbody tr th {\n",
       "        vertical-align: top;\n",
       "    }\n",
       "\n",
       "    .dataframe thead th {\n",
       "        text-align: right;\n",
       "    }\n",
       "</style>\n",
       "<table border=\"1\" class=\"dataframe\">\n",
       "  <thead>\n",
       "    <tr style=\"text-align: right;\">\n",
       "      <th></th>\n",
       "      <th>Descriptor</th>\n",
       "      <th>Statistics</th>\n",
       "      <th>p</th>\n",
       "      <th>alpha</th>\n",
       "      <th>Interpretation</th>\n",
       "    </tr>\n",
       "  </thead>\n",
       "  <tbody>\n",
       "    <tr>\n",
       "      <th>0</th>\n",
       "      <td>MolecularWeight</td>\n",
       "      <td>409.5</td>\n",
       "      <td>0.003049</td>\n",
       "      <td>0.05</td>\n",
       "      <td>Different distribution (reject H0)</td>\n",
       "    </tr>\n",
       "  </tbody>\n",
       "</table>\n",
       "</div>"
      ],
      "text/plain": [
       "        Descriptor  Statistics         p  alpha  \\\n",
       "0  MolecularWeight       409.5  0.003049   0.05   \n",
       "\n",
       "                       Interpretation  \n",
       "0  Different distribution (reject H0)  "
      ]
     },
     "execution_count": 41,
     "metadata": {},
     "output_type": "execute_result"
    }
   ],
   "source": [
    "mann_whitney (\"MolecularWeight\")"
   ]
  },
  {
   "cell_type": "markdown",
   "id": "c2620a83-6886-4338-954b-7f302409b5b6",
   "metadata": {},
   "source": [
    "#### **LogP**"
   ]
  },
  {
   "cell_type": "code",
   "execution_count": 42,
   "id": "8ceeab1b-6ce7-4c1a-bae0-d6f4e09db74f",
   "metadata": {},
   "outputs": [
    {
     "data": {
      "text/plain": [
       "<AxesSubplot:xlabel='bioactivity_class', ylabel='LogP'>"
      ]
     },
     "execution_count": 42,
     "metadata": {},
     "output_type": "execute_result"
    },
    {
     "data": {
      "image/png": "[encoded data removed]",
      "text/plain": [
       "<Figure size 432x288 with 1 Axes>"
      ]
     },
     "metadata": {
      "needs_background": "light"
     },
     "output_type": "display_data"
    }
   ],
   "source": [
    "sns.boxplot (x = 'bioactivity_class',\n",
    "             y = 'LogP',\n",
    "             data = df_two_class)"
   ]
  },
  {
   "cell_type": "code",
   "execution_count": 44,
   "id": "46def8c9-5025-4e45-872b-71786ccac257",
   "metadata": {},
   "outputs": [
    {
     "data": {
      "text/html": [
       "<div>\n",
       "<style scoped>\n",
       "    .dataframe tbody tr th:only-of-type {\n",
       "        vertical-align: middle;\n",
       "    }\n",
       "\n",
       "    .dataframe tbody tr th {\n",
       "        vertical-align: top;\n",
       "    }\n",
       "\n",
       "    .dataframe thead th {\n",
       "        text-align: right;\n",
       "    }\n",
       "</style>\n",
       "<table border=\"1\" class=\"dataframe\">\n",
       "  <thead>\n",
       "    <tr style=\"text-align: right;\">\n",
       "      <th></th>\n",
       "      <th>Descriptor</th>\n",
       "      <th>Statistics</th>\n",
       "      <th>p</th>\n",
       "      <th>alpha</th>\n",
       "      <th>Interpretation</th>\n",
       "    </tr>\n",
       "  </thead>\n",
       "  <tbody>\n",
       "    <tr>\n",
       "      <th>0</th>\n",
       "      <td>LogP</td>\n",
       "      <td>712.5</td>\n",
       "      <td>0.591609</td>\n",
       "      <td>0.05</td>\n",
       "      <td>Same distribution (fail to reject H0)</td>\n",
       "    </tr>\n",
       "  </tbody>\n",
       "</table>\n",
       "</div>"
      ],
      "text/plain": [
       "  Descriptor  Statistics         p  alpha  \\\n",
       "0       LogP       712.5  0.591609   0.05   \n",
       "\n",
       "                          Interpretation  \n",
       "0  Same distribution (fail to reject H0)  "
      ]
     },
     "execution_count": 44,
     "metadata": {},
     "output_type": "execute_result"
    }
   ],
   "source": [
    "mann_whitney ('LogP')"
   ]
  },
  {
   "cell_type": "markdown",
   "id": "1e9f7d8d-4335-44eb-b7c9-60ede8c9be14",
   "metadata": {},
   "source": [
    "#### **NumHDonors**"
   ]
  },
  {
   "cell_type": "code",
   "execution_count": 45,
   "id": "2a4edc8f-c8e9-443c-8e07-51aeb8f679d1",
   "metadata": {},
   "outputs": [
    {
     "data": {
      "text/plain": [
       "<AxesSubplot:xlabel='bioactivity_class', ylabel='NumHDonors'>"
      ]
     },
     "execution_count": 45,
     "metadata": {},
     "output_type": "execute_result"
    },
    {
     "data": {
      "image/png": "[encoded data removed]",
      "text/plain": [
       "<Figure size 432x288 with 1 Axes>"
      ]
     },
     "metadata": {
      "needs_background": "light"
     },
     "output_type": "display_data"
    }
   ],
   "source": [
    "sns.boxplot (x = 'bioactivity_class', y = 'NumHDonors', data = df_two_class)"
   ]
  },
  {
   "cell_type": "markdown",
   "id": "dcd5c692-5e70-4057-a175-d1ae4502d981",
   "metadata": {},
   "source": [
    "#### **Mann Whitney U - Test**"
   ]
  },
  {
   "cell_type": "code",
   "execution_count": 46,
   "id": "f2d5e471-b9e1-4d1d-ac31-3b8f31d1c803",
   "metadata": {},
   "outputs": [
    {
     "data": {
      "text/html": [
       "<div>\n",
       "<style scoped>\n",
       "    .dataframe tbody tr th:only-of-type {\n",
       "        vertical-align: middle;\n",
       "    }\n",
       "\n",
       "    .dataframe tbody tr th {\n",
       "        vertical-align: top;\n",
       "    }\n",
       "\n",
       "    .dataframe thead th {\n",
       "        text-align: right;\n",
       "    }\n",
       "</style>\n",
       "<table border=\"1\" class=\"dataframe\">\n",
       "  <thead>\n",
       "    <tr style=\"text-align: right;\">\n",
       "      <th></th>\n",
       "      <th>Descriptor</th>\n",
       "      <th>Statistics</th>\n",
       "      <th>p</th>\n",
       "      <th>alpha</th>\n",
       "      <th>Interpretation</th>\n",
       "    </tr>\n",
       "  </thead>\n",
       "  <tbody>\n",
       "    <tr>\n",
       "      <th>0</th>\n",
       "      <td>NumHDonors</td>\n",
       "      <td>299.5</td>\n",
       "      <td>0.000049</td>\n",
       "      <td>0.05</td>\n",
       "      <td>Different distribution (reject H0)</td>\n",
       "    </tr>\n",
       "  </tbody>\n",
       "</table>\n",
       "</div>"
      ],
      "text/plain": [
       "   Descriptor  Statistics         p  alpha                      Interpretation\n",
       "0  NumHDonors       299.5  0.000049   0.05  Different distribution (reject H0)"
      ]
     },
     "execution_count": 46,
     "metadata": {},
     "output_type": "execute_result"
    }
   ],
   "source": [
    "mann_whitney ('NumHDonors')"
   ]
  },
  {
   "cell_type": "markdown",
   "id": "33e9d661-a320-4f27-8deb-4e03d19523b4",
   "metadata": {},
   "source": [
    "#### **NumHAcceptors**"
   ]
  },
  {
   "cell_type": "code",
   "execution_count": 47,
   "id": "63aef4da-7a74-4a06-8acc-71f02073970a",
   "metadata": {},
   "outputs": [
    {
     "data": {
      "text/plain": [
       "<AxesSubplot:xlabel='bioactivity_class', ylabel='NumHAcceptors'>"
      ]
     },
     "execution_count": 47,
     "metadata": {},
     "output_type": "execute_result"
    },
    {
     "data": {
      "image/png": "[encoded data removed]",
      "text/plain": [
       "<Figure size 432x288 with 1 Axes>"
      ]
     },
     "metadata": {
      "needs_background": "light"
     },
     "output_type": "display_data"
    }
   ],
   "source": [
    "sns.boxplot (x = 'bioactivity_class', y = 'NumHAcceptors', data = df_two_class)"
   ]
  },
  {
   "cell_type": "code",
   "execution_count": 50,
   "id": "a29ab083-e8c2-40c0-bf9d-5c8d2d035901",
   "metadata": {},
   "outputs": [
    {
     "data": {
      "text/html": [
       "<div>\n",
       "<style scoped>\n",
       "    .dataframe tbody tr th:only-of-type {\n",
       "        vertical-align: middle;\n",
       "    }\n",
       "\n",
       "    .dataframe tbody tr th {\n",
       "        vertical-align: top;\n",
       "    }\n",
       "\n",
       "    .dataframe thead th {\n",
       "        text-align: right;\n",
       "    }\n",
       "</style>\n",
       "<table border=\"1\" class=\"dataframe\">\n",
       "  <thead>\n",
       "    <tr style=\"text-align: right;\">\n",
       "      <th></th>\n",
       "      <th>Descriptor</th>\n",
       "      <th>Statistics</th>\n",
       "      <th>p</th>\n",
       "      <th>alpha</th>\n",
       "      <th>Interpretation</th>\n",
       "    </tr>\n",
       "  </thead>\n",
       "  <tbody>\n",
       "    <tr>\n",
       "      <th>0</th>\n",
       "      <td>NumHAcceptors</td>\n",
       "      <td>415.0</td>\n",
       "      <td>0.003115</td>\n",
       "      <td>0.05</td>\n",
       "      <td>Different distribution (reject H0)</td>\n",
       "    </tr>\n",
       "  </tbody>\n",
       "</table>\n",
       "</div>"
      ],
      "text/plain": [
       "      Descriptor  Statistics         p  alpha  \\\n",
       "0  NumHAcceptors       415.0  0.003115   0.05   \n",
       "\n",
       "                       Interpretation  \n",
       "0  Different distribution (reject H0)  "
      ]
     },
     "execution_count": 50,
     "metadata": {},
     "output_type": "execute_result"
    }
   ],
   "source": [
    "mann_whitney ('NumHAcceptors')"
   ]
  }
 ],
 "metadata": {
  "kernelspec": {
   "display_name": "Python 3 (ipykernel)",
   "language": "python",
   "name": "python3"
  },
  "language_info": {
   "codemirror_mode": {
    "name": "ipython",
    "version": 3
   },
   "file_extension": ".py",
   "mimetype": "text/x-python",
   "name": "python",
   "nbconvert_exporter": "python",
   "pygments_lexer": "ipython3",
   "version": "3.7.10"
  }
 },
 "nbformat": 4,
 "nbformat_minor": 5
}
