{
 "cells": [
  {
   "cell_type": "markdown",
   "id": "a616c447-45c7-430f-906e-cecfcfc2f4bd",
   "metadata": {},
   "source": [
    "#### **To install rdkit**\n",
    "##### conda install -c rdkit rdkit\n",
    "##### pip install jupyterlab"
   ]
  },
  {
   "cell_type": "code",
   "execution_count": 25,
   "id": "35e792c3-3438-43cd-a01c-000a2d070c6e",
   "metadata": {},
   "outputs": [],
   "source": [
    "import os\n",
    "import pandas as pd"
   ]
  },
  {
   "cell_type": "markdown",
   "id": "a8a6a78e-9357-406e-bf98-b0202ef68187",
   "metadata": {},
   "source": [
    "#### **Load Pre-Processed data from Part-1**"
   ]
  },
  {
   "cell_type": "code",
   "execution_count": 26,
   "id": "64b6b5bc-a400-4b72-8caf-699afbdc590a",
   "metadata": {},
   "outputs": [
    {
     "data": {
      "text/html": [
       "<div>\n",
       "<style scoped>\n",
       "    .dataframe tbody tr th:only-of-type {\n",
       "        vertical-align: middle;\n",
       "    }\n",
       "\n",
       "    .dataframe tbody tr th {\n",
       "        vertical-align: top;\n",
       "    }\n",
       "\n",
       "    .dataframe thead th {\n",
       "        text-align: right;\n",
       "    }\n",
       "</style>\n",
       "<table border=\"1\" class=\"dataframe\">\n",
       "  <thead>\n",
       "    <tr style=\"text-align: right;\">\n",
       "      <th></th>\n",
       "      <th>molecule_chembl_id</th>\n",
       "      <th>canonical_smiles</th>\n",
       "      <th>standard_value</th>\n",
       "      <th>bioactivity_class</th>\n",
       "    </tr>\n",
       "  </thead>\n",
       "  <tbody>\n",
       "    <tr>\n",
       "      <th>0</th>\n",
       "      <td>CHEMBL133897</td>\n",
       "      <td>CCOc1nn(-c2cccc(OCc3ccccc3)c2)c(=O)o1</td>\n",
       "      <td>750.0</td>\n",
       "      <td>active</td>\n",
       "    </tr>\n",
       "    <tr>\n",
       "      <th>1</th>\n",
       "      <td>CHEMBL336398</td>\n",
       "      <td>O=C(N1CCCCC1)n1nc(-c2ccc(Cl)cc2)nc1SCC1CC1</td>\n",
       "      <td>100.0</td>\n",
       "      <td>active</td>\n",
       "    </tr>\n",
       "    <tr>\n",
       "      <th>2</th>\n",
       "      <td>CHEMBL131588</td>\n",
       "      <td>CN(C(=O)n1nc(-c2ccc(Cl)cc2)nc1SCC(F)(F)F)c1ccccc1</td>\n",
       "      <td>50000.0</td>\n",
       "      <td>inactive</td>\n",
       "    </tr>\n",
       "    <tr>\n",
       "      <th>3</th>\n",
       "      <td>CHEMBL130628</td>\n",
       "      <td>O=C(N1CCCCC1)n1nc(-c2ccc(Cl)cc2)nc1SCC(F)(F)F</td>\n",
       "      <td>300.0</td>\n",
       "      <td>active</td>\n",
       "    </tr>\n",
       "    <tr>\n",
       "      <th>4</th>\n",
       "      <td>CHEMBL130478</td>\n",
       "      <td>CSc1nc(-c2ccc(OC(F)(F)F)cc2)nn1C(=O)N(C)C</td>\n",
       "      <td>800.0</td>\n",
       "      <td>active</td>\n",
       "    </tr>\n",
       "    <tr>\n",
       "      <th>...</th>\n",
       "      <td>...</td>\n",
       "      <td>...</td>\n",
       "      <td>...</td>\n",
       "      <td>...</td>\n",
       "    </tr>\n",
       "    <tr>\n",
       "      <th>6335</th>\n",
       "      <td>CHEMBL4645659</td>\n",
       "      <td>COc1ccc(CCC(=O)Nc2nc(-c3cc4ccccc4oc3=O)cs2)cc1OC</td>\n",
       "      <td>740.0</td>\n",
       "      <td>active</td>\n",
       "    </tr>\n",
       "    <tr>\n",
       "      <th>6336</th>\n",
       "      <td>CHEMBL513063</td>\n",
       "      <td>COc1ccc(-c2csc(NC(=O)CCN3CCCC3)n2)cc1</td>\n",
       "      <td>510.0</td>\n",
       "      <td>active</td>\n",
       "    </tr>\n",
       "    <tr>\n",
       "      <th>6337</th>\n",
       "      <td>CHEMBL4640608</td>\n",
       "      <td>COc1cc(C2C3=C(CCCC3=O)NC3=C2C(=O)CCC3)ccc1OCc1...</td>\n",
       "      <td>125000.0</td>\n",
       "      <td>inactive</td>\n",
       "    </tr>\n",
       "    <tr>\n",
       "      <th>6338</th>\n",
       "      <td>CHEMBL4173961</td>\n",
       "      <td>O=C1CCCC2=C1C(c1ccc(OCc3cccc(F)c3)c(Br)c1)C1=C...</td>\n",
       "      <td>100000.0</td>\n",
       "      <td>inactive</td>\n",
       "    </tr>\n",
       "    <tr>\n",
       "      <th>6339</th>\n",
       "      <td>CHEMBL95</td>\n",
       "      <td>Nc1c2c(nc3ccccc13)CCCC2</td>\n",
       "      <td>100.0</td>\n",
       "      <td>active</td>\n",
       "    </tr>\n",
       "  </tbody>\n",
       "</table>\n",
       "<p>6340 rows × 4 columns</p>\n",
       "</div>"
      ],
      "text/plain": [
       "     molecule_chembl_id                                   canonical_smiles  \\\n",
       "0          CHEMBL133897              CCOc1nn(-c2cccc(OCc3ccccc3)c2)c(=O)o1   \n",
       "1          CHEMBL336398         O=C(N1CCCCC1)n1nc(-c2ccc(Cl)cc2)nc1SCC1CC1   \n",
       "2          CHEMBL131588  CN(C(=O)n1nc(-c2ccc(Cl)cc2)nc1SCC(F)(F)F)c1ccccc1   \n",
       "3          CHEMBL130628      O=C(N1CCCCC1)n1nc(-c2ccc(Cl)cc2)nc1SCC(F)(F)F   \n",
       "4          CHEMBL130478          CSc1nc(-c2ccc(OC(F)(F)F)cc2)nn1C(=O)N(C)C   \n",
       "...                 ...                                                ...   \n",
       "6335      CHEMBL4645659   COc1ccc(CCC(=O)Nc2nc(-c3cc4ccccc4oc3=O)cs2)cc1OC   \n",
       "6336       CHEMBL513063              COc1ccc(-c2csc(NC(=O)CCN3CCCC3)n2)cc1   \n",
       "6337      CHEMBL4640608  COc1cc(C2C3=C(CCCC3=O)NC3=C2C(=O)CCC3)ccc1OCc1...   \n",
       "6338      CHEMBL4173961  O=C1CCCC2=C1C(c1ccc(OCc3cccc(F)c3)c(Br)c1)C1=C...   \n",
       "6339           CHEMBL95                            Nc1c2c(nc3ccccc13)CCCC2   \n",
       "\n",
       "      standard_value bioactivity_class  \n",
       "0              750.0            active  \n",
       "1              100.0            active  \n",
       "2            50000.0          inactive  \n",
       "3              300.0            active  \n",
       "4              800.0            active  \n",
       "...              ...               ...  \n",
       "6335           740.0            active  \n",
       "6336           510.0            active  \n",
       "6337        125000.0          inactive  \n",
       "6338        100000.0          inactive  \n",
       "6339           100.0            active  \n",
       "\n",
       "[6340 rows x 4 columns]"
      ]
     },
     "execution_count": 26,
     "metadata": {},
     "output_type": "execute_result"
    }
   ],
   "source": [
    "df = pd.read_csv (os.path.join (\"Datasets\", \"Part-1_Bioactivity_Preprocessed_Data.csv\"))\n",
    "df"
   ]
  },
  {
   "cell_type": "markdown",
   "id": "1b24f21e-1969-430b-8ca9-cd436f89836f",
   "metadata": {},
   "source": [
    "### **Lipinskis rule of 5 :**\n",
    "#### Christopher Lipinski, a Scientist at Pfizer, came up with a set of rule of thumb for evalutaing the **drug likeness** of compunds. Such druglikeness is based on the Absorption, Distribution, Metabolism and Excretion **(ADME)** that is also known as the pharmacokinetic profile. Lipinski analyzed all orally active FDA-approved drugs in the formulation of what is to be known as the Rule of Five, or Lipinski's Rule.\n",
    "#### **1.** Weight of 1 Molecule should be less than 500gm/mole\n",
    "#### **2.** log (P) < 5\n",
    "**P -> The Octanol : Water Partition coefficient**\n",
    "**If all the drug goes into octanol, then the ratio of Octanol will be very large, then it will be soluble, but it cannot be taken in the blood stream.\n",
    "In other words, it can't be too hydrophobic.**\n",
    "##### **3.** Less than 5 H-bond donors (-OH)\n",
    "##### **4.** Less than 10 H-bond acceptors (-O)\n",
    "\n",
    "If there are too many hydrogen bond donors and acceptors, then the molecule will be very hydrophilic, and will be very soluble in blood, but it will not be able to go through the blood-brain barrier. Also, most of the binding sites for the drug will be hydrophobic.\n",
    "So, it can't be too hydrophobic, it can't be too hydrophilic.\n",
    "---"
   ]
  },
  {
   "cell_type": "code",
   "execution_count": 27,
   "id": "7b7eccb5-0450-4388-88cb-f05dde87326f",
   "metadata": {},
   "outputs": [],
   "source": [
    "import numpy as np\n",
    "from rdkit import Chem\n",
    "from rdkit.Chem import Descriptors, Lipinski"
   ]
  },
  {
   "cell_type": "markdown",
   "id": "c22d5bb8-01a9-4935-9cd1-05c95ac1ad35",
   "metadata": {},
   "source": [
    "#### **Compute Lipinski Descriptors**\n",
    "##### We'll use the inbuilt function in rdkit Descriptors to find the values for the Lipinski Descriptors from the Canonical Smiles"
   ]
  },
  {
   "cell_type": "code",
   "execution_count": 30,
   "id": "70659ee5-6f2b-4348-920a-1116260b87f3",
   "metadata": {},
   "outputs": [],
   "source": [
    "def get_lipinski_descriptors (canonical_smiles) :\n",
    "    molecules = []\n",
    "    for canonical_smile in canonical_smiles :\n",
    "        # print (canonical_smile)\n",
    "        molecule = Chem.MolFromSmiles (canonical_smile) \n",
    "        molecules.append (molecule)\n",
    "       \n",
    "    descriptors = []\n",
    "    for molecule in molecules :\n",
    "        descriptors_MolWt = Descriptors.MolWt (molecule)\n",
    "        descriptors_MolLogP = Descriptors.MolLogP (molecule)\n",
    "        descriptors_NumHDonors = Lipinski.NumHDonors (molecule)\n",
    "        descriptors_NumHAcceptors = Lipinski.NumHAcceptors (molecule)\n",
    "           \n",
    "        row = np.array ([descriptors_MolWt, descriptors_MolLogP, descriptors_NumHDonors, descriptors_NumHAcceptors])\n",
    "        descriptors.append (row)\n",
    "    \n",
    "    column_names = [\"MolecularWeight\", \"LogP\", \"NumHDonors\", \"NumHAcceptors\"]   \n",
    "    descriptors = pd.DataFrame (data = descriptors, columns = column_names)\n",
    "    \n",
    "    return descriptors"
   ]
  },
  {
   "cell_type": "code",
   "execution_count": 32,
   "id": "5efe2094-07ef-42f1-89ed-de830b031f9c",
   "metadata": {},
   "outputs": [
    {
     "data": {
      "text/html": [
       "<div>\n",
       "<style scoped>\n",
       "    .dataframe tbody tr th:only-of-type {\n",
       "        vertical-align: middle;\n",
       "    }\n",
       "\n",
       "    .dataframe tbody tr th {\n",
       "        vertical-align: top;\n",
       "    }\n",
       "\n",
       "    .dataframe thead th {\n",
       "        text-align: right;\n",
       "    }\n",
       "</style>\n",
       "<table border=\"1\" class=\"dataframe\">\n",
       "  <thead>\n",
       "    <tr style=\"text-align: right;\">\n",
       "      <th></th>\n",
       "      <th>MolecularWeight</th>\n",
       "      <th>LogP</th>\n",
       "      <th>NumHDonors</th>\n",
       "      <th>NumHAcceptors</th>\n",
       "    </tr>\n",
       "  </thead>\n",
       "  <tbody>\n",
       "    <tr>\n",
       "      <th>0</th>\n",
       "      <td>312.325</td>\n",
       "      <td>2.8032</td>\n",
       "      <td>0.0</td>\n",
       "      <td>6.0</td>\n",
       "    </tr>\n",
       "    <tr>\n",
       "      <th>1</th>\n",
       "      <td>376.913</td>\n",
       "      <td>4.5546</td>\n",
       "      <td>0.0</td>\n",
       "      <td>5.0</td>\n",
       "    </tr>\n",
       "    <tr>\n",
       "      <th>2</th>\n",
       "      <td>426.851</td>\n",
       "      <td>5.3574</td>\n",
       "      <td>0.0</td>\n",
       "      <td>5.0</td>\n",
       "    </tr>\n",
       "    <tr>\n",
       "      <th>3</th>\n",
       "      <td>404.845</td>\n",
       "      <td>4.7069</td>\n",
       "      <td>0.0</td>\n",
       "      <td>5.0</td>\n",
       "    </tr>\n",
       "    <tr>\n",
       "      <th>4</th>\n",
       "      <td>346.334</td>\n",
       "      <td>3.0953</td>\n",
       "      <td>0.0</td>\n",
       "      <td>6.0</td>\n",
       "    </tr>\n",
       "    <tr>\n",
       "      <th>...</th>\n",
       "      <td>...</td>\n",
       "      <td>...</td>\n",
       "      <td>...</td>\n",
       "      <td>...</td>\n",
       "    </tr>\n",
       "    <tr>\n",
       "      <th>6335</th>\n",
       "      <td>436.489</td>\n",
       "      <td>4.5050</td>\n",
       "      <td>1.0</td>\n",
       "      <td>7.0</td>\n",
       "    </tr>\n",
       "    <tr>\n",
       "      <th>6336</th>\n",
       "      <td>331.441</td>\n",
       "      <td>3.2431</td>\n",
       "      <td>1.0</td>\n",
       "      <td>5.0</td>\n",
       "    </tr>\n",
       "    <tr>\n",
       "      <th>6337</th>\n",
       "      <td>447.506</td>\n",
       "      <td>5.1143</td>\n",
       "      <td>1.0</td>\n",
       "      <td>5.0</td>\n",
       "    </tr>\n",
       "    <tr>\n",
       "      <th>6338</th>\n",
       "      <td>496.376</td>\n",
       "      <td>5.8682</td>\n",
       "      <td>1.0</td>\n",
       "      <td>4.0</td>\n",
       "    </tr>\n",
       "    <tr>\n",
       "      <th>6339</th>\n",
       "      <td>198.269</td>\n",
       "      <td>2.6958</td>\n",
       "      <td>1.0</td>\n",
       "      <td>2.0</td>\n",
       "    </tr>\n",
       "  </tbody>\n",
       "</table>\n",
       "<p>6340 rows × 4 columns</p>\n",
       "</div>"
      ],
      "text/plain": [
       "      MolecularWeight    LogP  NumHDonors  NumHAcceptors\n",
       "0             312.325  2.8032         0.0            6.0\n",
       "1             376.913  4.5546         0.0            5.0\n",
       "2             426.851  5.3574         0.0            5.0\n",
       "3             404.845  4.7069         0.0            5.0\n",
       "4             346.334  3.0953         0.0            6.0\n",
       "...               ...     ...         ...            ...\n",
       "6335          436.489  4.5050         1.0            7.0\n",
       "6336          331.441  3.2431         1.0            5.0\n",
       "6337          447.506  5.1143         1.0            5.0\n",
       "6338          496.376  5.8682         1.0            4.0\n",
       "6339          198.269  2.6958         1.0            2.0\n",
       "\n",
       "[6340 rows x 4 columns]"
      ]
     },
     "execution_count": 32,
     "metadata": {},
     "output_type": "execute_result"
    }
   ],
   "source": [
    "df_lipinski = get_lipinski_descriptors (df.canonical_smiles.values)\n",
    "df_lipinski"
   ]
  },
  {
   "cell_type": "code",
   "execution_count": 33,
   "id": "d2961416-4e3a-449e-a1ad-8c52b8771700",
   "metadata": {},
   "outputs": [
    {
     "data": {
      "text/html": [
       "<div>\n",
       "<style scoped>\n",
       "    .dataframe tbody tr th:only-of-type {\n",
       "        vertical-align: middle;\n",
       "    }\n",
       "\n",
       "    .dataframe tbody tr th {\n",
       "        vertical-align: top;\n",
       "    }\n",
       "\n",
       "    .dataframe thead th {\n",
       "        text-align: right;\n",
       "    }\n",
       "</style>\n",
       "<table border=\"1\" class=\"dataframe\">\n",
       "  <thead>\n",
       "    <tr style=\"text-align: right;\">\n",
       "      <th></th>\n",
       "      <th>molecule_chembl_id</th>\n",
       "      <th>canonical_smiles</th>\n",
       "      <th>standard_value</th>\n",
       "      <th>bioactivity_class</th>\n",
       "      <th>MolecularWeight</th>\n",
       "      <th>LogP</th>\n",
       "      <th>NumHDonors</th>\n",
       "      <th>NumHAcceptors</th>\n",
       "    </tr>\n",
       "  </thead>\n",
       "  <tbody>\n",
       "    <tr>\n",
       "      <th>0</th>\n",
       "      <td>CHEMBL133897</td>\n",
       "      <td>CCOc1nn(-c2cccc(OCc3ccccc3)c2)c(=O)o1</td>\n",
       "      <td>750.0</td>\n",
       "      <td>active</td>\n",
       "      <td>312.325</td>\n",
       "      <td>2.8032</td>\n",
       "      <td>0.0</td>\n",
       "      <td>6.0</td>\n",
       "    </tr>\n",
       "    <tr>\n",
       "      <th>1</th>\n",
       "      <td>CHEMBL336398</td>\n",
       "      <td>O=C(N1CCCCC1)n1nc(-c2ccc(Cl)cc2)nc1SCC1CC1</td>\n",
       "      <td>100.0</td>\n",
       "      <td>active</td>\n",
       "      <td>376.913</td>\n",
       "      <td>4.5546</td>\n",
       "      <td>0.0</td>\n",
       "      <td>5.0</td>\n",
       "    </tr>\n",
       "    <tr>\n",
       "      <th>2</th>\n",
       "      <td>CHEMBL131588</td>\n",
       "      <td>CN(C(=O)n1nc(-c2ccc(Cl)cc2)nc1SCC(F)(F)F)c1ccccc1</td>\n",
       "      <td>50000.0</td>\n",
       "      <td>inactive</td>\n",
       "      <td>426.851</td>\n",
       "      <td>5.3574</td>\n",
       "      <td>0.0</td>\n",
       "      <td>5.0</td>\n",
       "    </tr>\n",
       "    <tr>\n",
       "      <th>3</th>\n",
       "      <td>CHEMBL130628</td>\n",
       "      <td>O=C(N1CCCCC1)n1nc(-c2ccc(Cl)cc2)nc1SCC(F)(F)F</td>\n",
       "      <td>300.0</td>\n",
       "      <td>active</td>\n",
       "      <td>404.845</td>\n",
       "      <td>4.7069</td>\n",
       "      <td>0.0</td>\n",
       "      <td>5.0</td>\n",
       "    </tr>\n",
       "    <tr>\n",
       "      <th>4</th>\n",
       "      <td>CHEMBL130478</td>\n",
       "      <td>CSc1nc(-c2ccc(OC(F)(F)F)cc2)nn1C(=O)N(C)C</td>\n",
       "      <td>800.0</td>\n",
       "      <td>active</td>\n",
       "      <td>346.334</td>\n",
       "      <td>3.0953</td>\n",
       "      <td>0.0</td>\n",
       "      <td>6.0</td>\n",
       "    </tr>\n",
       "    <tr>\n",
       "      <th>...</th>\n",
       "      <td>...</td>\n",
       "      <td>...</td>\n",
       "      <td>...</td>\n",
       "      <td>...</td>\n",
       "      <td>...</td>\n",
       "      <td>...</td>\n",
       "      <td>...</td>\n",
       "      <td>...</td>\n",
       "    </tr>\n",
       "    <tr>\n",
       "      <th>6335</th>\n",
       "      <td>CHEMBL4645659</td>\n",
       "      <td>COc1ccc(CCC(=O)Nc2nc(-c3cc4ccccc4oc3=O)cs2)cc1OC</td>\n",
       "      <td>740.0</td>\n",
       "      <td>active</td>\n",
       "      <td>436.489</td>\n",
       "      <td>4.5050</td>\n",
       "      <td>1.0</td>\n",
       "      <td>7.0</td>\n",
       "    </tr>\n",
       "    <tr>\n",
       "      <th>6336</th>\n",
       "      <td>CHEMBL513063</td>\n",
       "      <td>COc1ccc(-c2csc(NC(=O)CCN3CCCC3)n2)cc1</td>\n",
       "      <td>510.0</td>\n",
       "      <td>active</td>\n",
       "      <td>331.441</td>\n",
       "      <td>3.2431</td>\n",
       "      <td>1.0</td>\n",
       "      <td>5.0</td>\n",
       "    </tr>\n",
       "    <tr>\n",
       "      <th>6337</th>\n",
       "      <td>CHEMBL4640608</td>\n",
       "      <td>COc1cc(C2C3=C(CCCC3=O)NC3=C2C(=O)CCC3)ccc1OCc1...</td>\n",
       "      <td>125000.0</td>\n",
       "      <td>inactive</td>\n",
       "      <td>447.506</td>\n",
       "      <td>5.1143</td>\n",
       "      <td>1.0</td>\n",
       "      <td>5.0</td>\n",
       "    </tr>\n",
       "    <tr>\n",
       "      <th>6338</th>\n",
       "      <td>CHEMBL4173961</td>\n",
       "      <td>O=C1CCCC2=C1C(c1ccc(OCc3cccc(F)c3)c(Br)c1)C1=C...</td>\n",
       "      <td>100000.0</td>\n",
       "      <td>inactive</td>\n",
       "      <td>496.376</td>\n",
       "      <td>5.8682</td>\n",
       "      <td>1.0</td>\n",
       "      <td>4.0</td>\n",
       "    </tr>\n",
       "    <tr>\n",
       "      <th>6339</th>\n",
       "      <td>CHEMBL95</td>\n",
       "      <td>Nc1c2c(nc3ccccc13)CCCC2</td>\n",
       "      <td>100.0</td>\n",
       "      <td>active</td>\n",
       "      <td>198.269</td>\n",
       "      <td>2.6958</td>\n",
       "      <td>1.0</td>\n",
       "      <td>2.0</td>\n",
       "    </tr>\n",
       "  </tbody>\n",
       "</table>\n",
       "<p>6340 rows × 8 columns</p>\n",
       "</div>"
      ],
      "text/plain": [
       "     molecule_chembl_id                                   canonical_smiles  \\\n",
       "0          CHEMBL133897              CCOc1nn(-c2cccc(OCc3ccccc3)c2)c(=O)o1   \n",
       "1          CHEMBL336398         O=C(N1CCCCC1)n1nc(-c2ccc(Cl)cc2)nc1SCC1CC1   \n",
       "2          CHEMBL131588  CN(C(=O)n1nc(-c2ccc(Cl)cc2)nc1SCC(F)(F)F)c1ccccc1   \n",
       "3          CHEMBL130628      O=C(N1CCCCC1)n1nc(-c2ccc(Cl)cc2)nc1SCC(F)(F)F   \n",
       "4          CHEMBL130478          CSc1nc(-c2ccc(OC(F)(F)F)cc2)nn1C(=O)N(C)C   \n",
       "...                 ...                                                ...   \n",
       "6335      CHEMBL4645659   COc1ccc(CCC(=O)Nc2nc(-c3cc4ccccc4oc3=O)cs2)cc1OC   \n",
       "6336       CHEMBL513063              COc1ccc(-c2csc(NC(=O)CCN3CCCC3)n2)cc1   \n",
       "6337      CHEMBL4640608  COc1cc(C2C3=C(CCCC3=O)NC3=C2C(=O)CCC3)ccc1OCc1...   \n",
       "6338      CHEMBL4173961  O=C1CCCC2=C1C(c1ccc(OCc3cccc(F)c3)c(Br)c1)C1=C...   \n",
       "6339           CHEMBL95                            Nc1c2c(nc3ccccc13)CCCC2   \n",
       "\n",
       "      standard_value bioactivity_class  MolecularWeight    LogP  NumHDonors  \\\n",
       "0              750.0            active          312.325  2.8032         0.0   \n",
       "1              100.0            active          376.913  4.5546         0.0   \n",
       "2            50000.0          inactive          426.851  5.3574         0.0   \n",
       "3              300.0            active          404.845  4.7069         0.0   \n",
       "4              800.0            active          346.334  3.0953         0.0   \n",
       "...              ...               ...              ...     ...         ...   \n",
       "6335           740.0            active          436.489  4.5050         1.0   \n",
       "6336           510.0            active          331.441  3.2431         1.0   \n",
       "6337        125000.0          inactive          447.506  5.1143         1.0   \n",
       "6338        100000.0          inactive          496.376  5.8682         1.0   \n",
       "6339           100.0            active          198.269  2.6958         1.0   \n",
       "\n",
       "      NumHAcceptors  \n",
       "0               6.0  \n",
       "1               5.0  \n",
       "2               5.0  \n",
       "3               5.0  \n",
       "4               6.0  \n",
       "...             ...  \n",
       "6335            7.0  \n",
       "6336            5.0  \n",
       "6337            5.0  \n",
       "6338            4.0  \n",
       "6339            2.0  \n",
       "\n",
       "[6340 rows x 8 columns]"
      ]
     },
     "execution_count": 33,
     "metadata": {},
     "output_type": "execute_result"
    }
   ],
   "source": [
    "df_combined = pd.concat ([df, df_lipinski], axis = 1)\n",
    "df_combined"
   ]
  },
  {
   "cell_type": "markdown",
   "id": "25cc36c7-5f09-443d-9a07-e85afcaff30e",
   "metadata": {},
   "source": [
    "#### **Conversion of IC50 values into PIC 50 values**\n",
    "**`PIC50 = - log10 (IC50)`**\n",
    "1. This is being done for the IC50 values to be more uniformly distributed.\n",
    "2. The IC50 values are contained in the standard value column, and they are in nM (nano Molar Unit).  \n",
    "3. We'll multiply them with 10^9 to convert them to Molar (from nano Molar).  \n",
    "4. Then, we'll find the -log10 to convert the IC50 values into PIC50.  "
   ]
  },
  {
   "cell_type": "code",
   "execution_count": 34,
   "id": "6731dc1d-f454-45b9-9cfd-d68219ac52e4",
   "metadata": {},
   "outputs": [
    {
     "data": {
      "text/plain": [
       "count    6.340000e+03\n",
       "mean     1.354415e+13\n",
       "std      8.949546e+14\n",
       "min      5.000000e-06\n",
       "25%      8.000000e+01\n",
       "50%      1.065000e+03\n",
       "75%      1.100000e+04\n",
       "max      7.079458e+16\n",
       "Name: standard_value, dtype: float64"
      ]
     },
     "execution_count": 34,
     "metadata": {},
     "output_type": "execute_result"
    }
   ],
   "source": [
    "df_combined.standard_value.describe ()"
   ]
  },
  {
   "cell_type": "markdown",
   "id": "b2c19192-6cd7-4dee-993c-ab7a27636eb0",
   "metadata": {},
   "source": [
    "#### Step 1 : Cap the values to 100000000"
   ]
  },
  {
   "cell_type": "code",
   "execution_count": 35,
   "id": "c7c52d06-ff06-4ee1-9c34-1272c40c3fa4",
   "metadata": {},
   "outputs": [
    {
     "data": {
      "text/html": [
       "<div>\n",
       "<style scoped>\n",
       "    .dataframe tbody tr th:only-of-type {\n",
       "        vertical-align: middle;\n",
       "    }\n",
       "\n",
       "    .dataframe tbody tr th {\n",
       "        vertical-align: top;\n",
       "    }\n",
       "\n",
       "    .dataframe thead th {\n",
       "        text-align: right;\n",
       "    }\n",
       "</style>\n",
       "<table border=\"1\" class=\"dataframe\">\n",
       "  <thead>\n",
       "    <tr style=\"text-align: right;\">\n",
       "      <th></th>\n",
       "      <th>molecule_chembl_id</th>\n",
       "      <th>canonical_smiles</th>\n",
       "      <th>bioactivity_class</th>\n",
       "      <th>MolecularWeight</th>\n",
       "      <th>LogP</th>\n",
       "      <th>NumHDonors</th>\n",
       "      <th>NumHAcceptors</th>\n",
       "      <th>standard_value_capped</th>\n",
       "    </tr>\n",
       "  </thead>\n",
       "  <tbody>\n",
       "    <tr>\n",
       "      <th>0</th>\n",
       "      <td>CHEMBL133897</td>\n",
       "      <td>CCOc1nn(-c2cccc(OCc3ccccc3)c2)c(=O)o1</td>\n",
       "      <td>active</td>\n",
       "      <td>312.325</td>\n",
       "      <td>2.8032</td>\n",
       "      <td>0.0</td>\n",
       "      <td>6.0</td>\n",
       "      <td>750.0</td>\n",
       "    </tr>\n",
       "    <tr>\n",
       "      <th>1</th>\n",
       "      <td>CHEMBL336398</td>\n",
       "      <td>O=C(N1CCCCC1)n1nc(-c2ccc(Cl)cc2)nc1SCC1CC1</td>\n",
       "      <td>active</td>\n",
       "      <td>376.913</td>\n",
       "      <td>4.5546</td>\n",
       "      <td>0.0</td>\n",
       "      <td>5.0</td>\n",
       "      <td>100.0</td>\n",
       "    </tr>\n",
       "    <tr>\n",
       "      <th>2</th>\n",
       "      <td>CHEMBL131588</td>\n",
       "      <td>CN(C(=O)n1nc(-c2ccc(Cl)cc2)nc1SCC(F)(F)F)c1ccccc1</td>\n",
       "      <td>inactive</td>\n",
       "      <td>426.851</td>\n",
       "      <td>5.3574</td>\n",
       "      <td>0.0</td>\n",
       "      <td>5.0</td>\n",
       "      <td>50000.0</td>\n",
       "    </tr>\n",
       "    <tr>\n",
       "      <th>3</th>\n",
       "      <td>CHEMBL130628</td>\n",
       "      <td>O=C(N1CCCCC1)n1nc(-c2ccc(Cl)cc2)nc1SCC(F)(F)F</td>\n",
       "      <td>active</td>\n",
       "      <td>404.845</td>\n",
       "      <td>4.7069</td>\n",
       "      <td>0.0</td>\n",
       "      <td>5.0</td>\n",
       "      <td>300.0</td>\n",
       "    </tr>\n",
       "    <tr>\n",
       "      <th>4</th>\n",
       "      <td>CHEMBL130478</td>\n",
       "      <td>CSc1nc(-c2ccc(OC(F)(F)F)cc2)nn1C(=O)N(C)C</td>\n",
       "      <td>active</td>\n",
       "      <td>346.334</td>\n",
       "      <td>3.0953</td>\n",
       "      <td>0.0</td>\n",
       "      <td>6.0</td>\n",
       "      <td>800.0</td>\n",
       "    </tr>\n",
       "    <tr>\n",
       "      <th>...</th>\n",
       "      <td>...</td>\n",
       "      <td>...</td>\n",
       "      <td>...</td>\n",
       "      <td>...</td>\n",
       "      <td>...</td>\n",
       "      <td>...</td>\n",
       "      <td>...</td>\n",
       "      <td>...</td>\n",
       "    </tr>\n",
       "    <tr>\n",
       "      <th>6335</th>\n",
       "      <td>CHEMBL4645659</td>\n",
       "      <td>COc1ccc(CCC(=O)Nc2nc(-c3cc4ccccc4oc3=O)cs2)cc1OC</td>\n",
       "      <td>active</td>\n",
       "      <td>436.489</td>\n",
       "      <td>4.5050</td>\n",
       "      <td>1.0</td>\n",
       "      <td>7.0</td>\n",
       "      <td>740.0</td>\n",
       "    </tr>\n",
       "    <tr>\n",
       "      <th>6336</th>\n",
       "      <td>CHEMBL513063</td>\n",
       "      <td>COc1ccc(-c2csc(NC(=O)CCN3CCCC3)n2)cc1</td>\n",
       "      <td>active</td>\n",
       "      <td>331.441</td>\n",
       "      <td>3.2431</td>\n",
       "      <td>1.0</td>\n",
       "      <td>5.0</td>\n",
       "      <td>510.0</td>\n",
       "    </tr>\n",
       "    <tr>\n",
       "      <th>6337</th>\n",
       "      <td>CHEMBL4640608</td>\n",
       "      <td>COc1cc(C2C3=C(CCCC3=O)NC3=C2C(=O)CCC3)ccc1OCc1...</td>\n",
       "      <td>inactive</td>\n",
       "      <td>447.506</td>\n",
       "      <td>5.1143</td>\n",
       "      <td>1.0</td>\n",
       "      <td>5.0</td>\n",
       "      <td>125000.0</td>\n",
       "    </tr>\n",
       "    <tr>\n",
       "      <th>6338</th>\n",
       "      <td>CHEMBL4173961</td>\n",
       "      <td>O=C1CCCC2=C1C(c1ccc(OCc3cccc(F)c3)c(Br)c1)C1=C...</td>\n",
       "      <td>inactive</td>\n",
       "      <td>496.376</td>\n",
       "      <td>5.8682</td>\n",
       "      <td>1.0</td>\n",
       "      <td>4.0</td>\n",
       "      <td>100000.0</td>\n",
       "    </tr>\n",
       "    <tr>\n",
       "      <th>6339</th>\n",
       "      <td>CHEMBL95</td>\n",
       "      <td>Nc1c2c(nc3ccccc13)CCCC2</td>\n",
       "      <td>active</td>\n",
       "      <td>198.269</td>\n",
       "      <td>2.6958</td>\n",
       "      <td>1.0</td>\n",
       "      <td>2.0</td>\n",
       "      <td>100.0</td>\n",
       "    </tr>\n",
       "  </tbody>\n",
       "</table>\n",
       "<p>6340 rows × 8 columns</p>\n",
       "</div>"
      ],
      "text/plain": [
       "     molecule_chembl_id                                   canonical_smiles  \\\n",
       "0          CHEMBL133897              CCOc1nn(-c2cccc(OCc3ccccc3)c2)c(=O)o1   \n",
       "1          CHEMBL336398         O=C(N1CCCCC1)n1nc(-c2ccc(Cl)cc2)nc1SCC1CC1   \n",
       "2          CHEMBL131588  CN(C(=O)n1nc(-c2ccc(Cl)cc2)nc1SCC(F)(F)F)c1ccccc1   \n",
       "3          CHEMBL130628      O=C(N1CCCCC1)n1nc(-c2ccc(Cl)cc2)nc1SCC(F)(F)F   \n",
       "4          CHEMBL130478          CSc1nc(-c2ccc(OC(F)(F)F)cc2)nn1C(=O)N(C)C   \n",
       "...                 ...                                                ...   \n",
       "6335      CHEMBL4645659   COc1ccc(CCC(=O)Nc2nc(-c3cc4ccccc4oc3=O)cs2)cc1OC   \n",
       "6336       CHEMBL513063              COc1ccc(-c2csc(NC(=O)CCN3CCCC3)n2)cc1   \n",
       "6337      CHEMBL4640608  COc1cc(C2C3=C(CCCC3=O)NC3=C2C(=O)CCC3)ccc1OCc1...   \n",
       "6338      CHEMBL4173961  O=C1CCCC2=C1C(c1ccc(OCc3cccc(F)c3)c(Br)c1)C1=C...   \n",
       "6339           CHEMBL95                            Nc1c2c(nc3ccccc13)CCCC2   \n",
       "\n",
       "     bioactivity_class  MolecularWeight    LogP  NumHDonors  NumHAcceptors  \\\n",
       "0               active          312.325  2.8032         0.0            6.0   \n",
       "1               active          376.913  4.5546         0.0            5.0   \n",
       "2             inactive          426.851  5.3574         0.0            5.0   \n",
       "3               active          404.845  4.7069         0.0            5.0   \n",
       "4               active          346.334  3.0953         0.0            6.0   \n",
       "...                ...              ...     ...         ...            ...   \n",
       "6335            active          436.489  4.5050         1.0            7.0   \n",
       "6336            active          331.441  3.2431         1.0            5.0   \n",
       "6337          inactive          447.506  5.1143         1.0            5.0   \n",
       "6338          inactive          496.376  5.8682         1.0            4.0   \n",
       "6339            active          198.269  2.6958         1.0            2.0   \n",
       "\n",
       "      standard_value_capped  \n",
       "0                     750.0  \n",
       "1                     100.0  \n",
       "2                   50000.0  \n",
       "3                     300.0  \n",
       "4                     800.0  \n",
       "...                     ...  \n",
       "6335                  740.0  \n",
       "6336                  510.0  \n",
       "6337               125000.0  \n",
       "6338               100000.0  \n",
       "6339                  100.0  \n",
       "\n",
       "[6340 rows x 8 columns]"
      ]
     },
     "execution_count": 35,
     "metadata": {},
     "output_type": "execute_result"
    }
   ],
   "source": [
    "standard_values_capped = []\n",
    "for standard_value in df_combined.values [:, 2] :\n",
    "    if standard_value > 100000000 :\n",
    "        standard_values_capped.append (100000000)\n",
    "    \n",
    "    else :\n",
    "        standard_values_capped.append (standard_value)\n",
    "        \n",
    "df_combined ['standard_value_capped'] = standard_values_capped\n",
    "df_capped = df_combined.drop ('standard_value', axis = 1)\n",
    "df_capped.standard_value_capped.describe ()\n",
    "df_capped"
   ]
  },
  {
   "cell_type": "markdown",
   "id": "6b09151b-6015-43bd-9ac2-ecce34f08ef1",
   "metadata": {},
   "source": [
    "#### Step 2 : Convert IC50 values to PIC50"
   ]
  },
  {
   "cell_type": "code",
   "execution_count": 36,
   "id": "820e3fca-c9d1-4c58-a632-ac1f46cb4652",
   "metadata": {},
   "outputs": [],
   "source": [
    "# Convert from nM (nano Molar) to Molar by multiplying by 10^-9\n",
    "df_capped.standard_value_capped = df_capped.standard_value_capped * 1e-9"
   ]
  },
  {
   "cell_type": "markdown",
   "id": "129dcdca-063e-45c7-888d-0161a2968e43",
   "metadata": {},
   "source": [
    "#### **Convert from IC50 to PIC50 using :**\n",
    "**`PIC50 = - log10 (IC50)`**"
   ]
  },
  {
   "cell_type": "code",
   "execution_count": 37,
   "id": "618856ee-44df-4b64-bf75-a0e57e9efe53",
   "metadata": {},
   "outputs": [],
   "source": [
    "df_capped_PIC50 = df_capped.copy ()\n",
    "df_capped_PIC50 = df_capped_PIC50.rename (columns = {\"standard_value_capped\": \"PIC50\"})\n",
    "df_capped_PIC50.PIC50 = -np.log10 (df_capped_PIC50.PIC50.values)"
   ]
  },
  {
   "cell_type": "code",
   "execution_count": 38,
   "id": "251460a0-916b-4597-b501-cd2a6e1eaf08",
   "metadata": {},
   "outputs": [
    {
     "name": "stdout",
     "output_type": "stream",
     "text": [
      "  molecule_chembl_id                                   canonical_smiles  \\\n",
      "0       CHEMBL133897              CCOc1nn(-c2cccc(OCc3ccccc3)c2)c(=O)o1   \n",
      "1       CHEMBL336398         O=C(N1CCCCC1)n1nc(-c2ccc(Cl)cc2)nc1SCC1CC1   \n",
      "2       CHEMBL131588  CN(C(=O)n1nc(-c2ccc(Cl)cc2)nc1SCC(F)(F)F)c1ccccc1   \n",
      "3       CHEMBL130628      O=C(N1CCCCC1)n1nc(-c2ccc(Cl)cc2)nc1SCC(F)(F)F   \n",
      "4       CHEMBL130478          CSc1nc(-c2ccc(OC(F)(F)F)cc2)nn1C(=O)N(C)C   \n",
      "\n",
      "  bioactivity_class  MolecularWeight    LogP  NumHDonors  NumHAcceptors  \\\n",
      "0            active          312.325  2.8032         0.0            6.0   \n",
      "1            active          376.913  4.5546         0.0            5.0   \n",
      "2          inactive          426.851  5.3574         0.0            5.0   \n",
      "3            active          404.845  4.7069         0.0            5.0   \n",
      "4            active          346.334  3.0953         0.0            6.0   \n",
      "\n",
      "      PIC50  \n",
      "0  6.124939  \n",
      "1  7.000000  \n",
      "2  4.301030  \n",
      "3  6.522879  \n",
      "4  6.096910  \n",
      "  molecule_chembl_id                                   canonical_smiles  \\\n",
      "0       CHEMBL133897              CCOc1nn(-c2cccc(OCc3ccccc3)c2)c(=O)o1   \n",
      "1       CHEMBL336398         O=C(N1CCCCC1)n1nc(-c2ccc(Cl)cc2)nc1SCC1CC1   \n",
      "2       CHEMBL131588  CN(C(=O)n1nc(-c2ccc(Cl)cc2)nc1SCC(F)(F)F)c1ccccc1   \n",
      "3       CHEMBL130628      O=C(N1CCCCC1)n1nc(-c2ccc(Cl)cc2)nc1SCC(F)(F)F   \n",
      "4       CHEMBL130478          CSc1nc(-c2ccc(OC(F)(F)F)cc2)nn1C(=O)N(C)C   \n",
      "\n",
      "  bioactivity_class  MolecularWeight    LogP  NumHDonors  NumHAcceptors  \\\n",
      "0            active          312.325  2.8032         0.0            6.0   \n",
      "1            active          376.913  4.5546         0.0            5.0   \n",
      "2          inactive          426.851  5.3574         0.0            5.0   \n",
      "3            active          404.845  4.7069         0.0            5.0   \n",
      "4            active          346.334  3.0953         0.0            6.0   \n",
      "\n",
      "   standard_value_capped  \n",
      "0           7.500000e-07  \n",
      "1           1.000000e-07  \n",
      "2           5.000000e-05  \n",
      "3           3.000000e-07  \n",
      "4           8.000000e-07  \n"
     ]
    }
   ],
   "source": [
    "print (df_capped_PIC50.head (5))\n",
    "print (df_capped.head (5))"
   ]
  },
  {
   "cell_type": "code",
   "execution_count": 39,
   "id": "6f2ae1c7-054f-4f55-bf84-11e5c6cbbc30",
   "metadata": {},
   "outputs": [
    {
     "name": "stdout",
     "output_type": "stream",
     "text": [
      "count    6.340000e+03\n",
      "mean     2.742247e-04\n",
      "std      4.299092e-03\n",
      "min      5.000000e-15\n",
      "25%      8.000000e-08\n",
      "50%      1.065000e-06\n",
      "75%      1.100000e-05\n",
      "max      1.000000e-01\n",
      "Name: standard_value_capped, dtype: float64\n",
      "count    6340.000000\n",
      "mean        6.029106\n",
      "std         1.629563\n",
      "min         1.000000\n",
      "25%         4.958607\n",
      "50%         5.972655\n",
      "75%         7.096910\n",
      "max        14.301030\n",
      "Name: PIC50, dtype: float64\n"
     ]
    }
   ],
   "source": [
    "print (df_capped.standard_value_capped.describe ())\n",
    "print (df_capped_PIC50.PIC50.describe ())"
   ]
  },
  {
   "cell_type": "markdown",
   "id": "3f651ba9-79c1-4abe-bae9-d0c6a3255f54",
   "metadata": {},
   "source": [
    "#### **Remove the intermediate Bio-Activity class from the dataset**\n",
    "##### This is being done to get a simple comparison between the two Bio-Activity classes"
   ]
  },
  {
   "cell_type": "code",
   "execution_count": 40,
   "id": "74ffc416-788f-433f-a334-0dfedfc96f30",
   "metadata": {},
   "outputs": [
    {
     "data": {
      "text/html": [
       "<div>\n",
       "<style scoped>\n",
       "    .dataframe tbody tr th:only-of-type {\n",
       "        vertical-align: middle;\n",
       "    }\n",
       "\n",
       "    .dataframe tbody tr th {\n",
       "        vertical-align: top;\n",
       "    }\n",
       "\n",
       "    .dataframe thead th {\n",
       "        text-align: right;\n",
       "    }\n",
       "</style>\n",
       "<table border=\"1\" class=\"dataframe\">\n",
       "  <thead>\n",
       "    <tr style=\"text-align: right;\">\n",
       "      <th></th>\n",
       "      <th>molecule_chembl_id</th>\n",
       "      <th>canonical_smiles</th>\n",
       "      <th>bioactivity_class</th>\n",
       "      <th>MolecularWeight</th>\n",
       "      <th>LogP</th>\n",
       "      <th>NumHDonors</th>\n",
       "      <th>NumHAcceptors</th>\n",
       "      <th>PIC50</th>\n",
       "    </tr>\n",
       "  </thead>\n",
       "  <tbody>\n",
       "    <tr>\n",
       "      <th>0</th>\n",
       "      <td>CHEMBL133897</td>\n",
       "      <td>CCOc1nn(-c2cccc(OCc3ccccc3)c2)c(=O)o1</td>\n",
       "      <td>active</td>\n",
       "      <td>312.325</td>\n",
       "      <td>2.8032</td>\n",
       "      <td>0.0</td>\n",
       "      <td>6.0</td>\n",
       "      <td>6.124939</td>\n",
       "    </tr>\n",
       "    <tr>\n",
       "      <th>1</th>\n",
       "      <td>CHEMBL336398</td>\n",
       "      <td>O=C(N1CCCCC1)n1nc(-c2ccc(Cl)cc2)nc1SCC1CC1</td>\n",
       "      <td>active</td>\n",
       "      <td>376.913</td>\n",
       "      <td>4.5546</td>\n",
       "      <td>0.0</td>\n",
       "      <td>5.0</td>\n",
       "      <td>7.000000</td>\n",
       "    </tr>\n",
       "    <tr>\n",
       "      <th>2</th>\n",
       "      <td>CHEMBL131588</td>\n",
       "      <td>CN(C(=O)n1nc(-c2ccc(Cl)cc2)nc1SCC(F)(F)F)c1ccccc1</td>\n",
       "      <td>inactive</td>\n",
       "      <td>426.851</td>\n",
       "      <td>5.3574</td>\n",
       "      <td>0.0</td>\n",
       "      <td>5.0</td>\n",
       "      <td>4.301030</td>\n",
       "    </tr>\n",
       "    <tr>\n",
       "      <th>3</th>\n",
       "      <td>CHEMBL130628</td>\n",
       "      <td>O=C(N1CCCCC1)n1nc(-c2ccc(Cl)cc2)nc1SCC(F)(F)F</td>\n",
       "      <td>active</td>\n",
       "      <td>404.845</td>\n",
       "      <td>4.7069</td>\n",
       "      <td>0.0</td>\n",
       "      <td>5.0</td>\n",
       "      <td>6.522879</td>\n",
       "    </tr>\n",
       "    <tr>\n",
       "      <th>4</th>\n",
       "      <td>CHEMBL130478</td>\n",
       "      <td>CSc1nc(-c2ccc(OC(F)(F)F)cc2)nn1C(=O)N(C)C</td>\n",
       "      <td>active</td>\n",
       "      <td>346.334</td>\n",
       "      <td>3.0953</td>\n",
       "      <td>0.0</td>\n",
       "      <td>6.0</td>\n",
       "      <td>6.096910</td>\n",
       "    </tr>\n",
       "    <tr>\n",
       "      <th>...</th>\n",
       "      <td>...</td>\n",
       "      <td>...</td>\n",
       "      <td>...</td>\n",
       "      <td>...</td>\n",
       "      <td>...</td>\n",
       "      <td>...</td>\n",
       "      <td>...</td>\n",
       "      <td>...</td>\n",
       "    </tr>\n",
       "    <tr>\n",
       "      <th>6335</th>\n",
       "      <td>CHEMBL4645659</td>\n",
       "      <td>COc1ccc(CCC(=O)Nc2nc(-c3cc4ccccc4oc3=O)cs2)cc1OC</td>\n",
       "      <td>active</td>\n",
       "      <td>436.489</td>\n",
       "      <td>4.5050</td>\n",
       "      <td>1.0</td>\n",
       "      <td>7.0</td>\n",
       "      <td>6.130768</td>\n",
       "    </tr>\n",
       "    <tr>\n",
       "      <th>6336</th>\n",
       "      <td>CHEMBL513063</td>\n",
       "      <td>COc1ccc(-c2csc(NC(=O)CCN3CCCC3)n2)cc1</td>\n",
       "      <td>active</td>\n",
       "      <td>331.441</td>\n",
       "      <td>3.2431</td>\n",
       "      <td>1.0</td>\n",
       "      <td>5.0</td>\n",
       "      <td>6.292430</td>\n",
       "    </tr>\n",
       "    <tr>\n",
       "      <th>6337</th>\n",
       "      <td>CHEMBL4640608</td>\n",
       "      <td>COc1cc(C2C3=C(CCCC3=O)NC3=C2C(=O)CCC3)ccc1OCc1...</td>\n",
       "      <td>inactive</td>\n",
       "      <td>447.506</td>\n",
       "      <td>5.1143</td>\n",
       "      <td>1.0</td>\n",
       "      <td>5.0</td>\n",
       "      <td>3.903090</td>\n",
       "    </tr>\n",
       "    <tr>\n",
       "      <th>6338</th>\n",
       "      <td>CHEMBL4173961</td>\n",
       "      <td>O=C1CCCC2=C1C(c1ccc(OCc3cccc(F)c3)c(Br)c1)C1=C...</td>\n",
       "      <td>inactive</td>\n",
       "      <td>496.376</td>\n",
       "      <td>5.8682</td>\n",
       "      <td>1.0</td>\n",
       "      <td>4.0</td>\n",
       "      <td>4.000000</td>\n",
       "    </tr>\n",
       "    <tr>\n",
       "      <th>6339</th>\n",
       "      <td>CHEMBL95</td>\n",
       "      <td>Nc1c2c(nc3ccccc13)CCCC2</td>\n",
       "      <td>active</td>\n",
       "      <td>198.269</td>\n",
       "      <td>2.6958</td>\n",
       "      <td>1.0</td>\n",
       "      <td>2.0</td>\n",
       "      <td>7.000000</td>\n",
       "    </tr>\n",
       "  </tbody>\n",
       "</table>\n",
       "<p>4928 rows × 8 columns</p>\n",
       "</div>"
      ],
      "text/plain": [
       "     molecule_chembl_id                                   canonical_smiles  \\\n",
       "0          CHEMBL133897              CCOc1nn(-c2cccc(OCc3ccccc3)c2)c(=O)o1   \n",
       "1          CHEMBL336398         O=C(N1CCCCC1)n1nc(-c2ccc(Cl)cc2)nc1SCC1CC1   \n",
       "2          CHEMBL131588  CN(C(=O)n1nc(-c2ccc(Cl)cc2)nc1SCC(F)(F)F)c1ccccc1   \n",
       "3          CHEMBL130628      O=C(N1CCCCC1)n1nc(-c2ccc(Cl)cc2)nc1SCC(F)(F)F   \n",
       "4          CHEMBL130478          CSc1nc(-c2ccc(OC(F)(F)F)cc2)nn1C(=O)N(C)C   \n",
       "...                 ...                                                ...   \n",
       "6335      CHEMBL4645659   COc1ccc(CCC(=O)Nc2nc(-c3cc4ccccc4oc3=O)cs2)cc1OC   \n",
       "6336       CHEMBL513063              COc1ccc(-c2csc(NC(=O)CCN3CCCC3)n2)cc1   \n",
       "6337      CHEMBL4640608  COc1cc(C2C3=C(CCCC3=O)NC3=C2C(=O)CCC3)ccc1OCc1...   \n",
       "6338      CHEMBL4173961  O=C1CCCC2=C1C(c1ccc(OCc3cccc(F)c3)c(Br)c1)C1=C...   \n",
       "6339           CHEMBL95                            Nc1c2c(nc3ccccc13)CCCC2   \n",
       "\n",
       "     bioactivity_class  MolecularWeight    LogP  NumHDonors  NumHAcceptors  \\\n",
       "0               active          312.325  2.8032         0.0            6.0   \n",
       "1               active          376.913  4.5546         0.0            5.0   \n",
       "2             inactive          426.851  5.3574         0.0            5.0   \n",
       "3               active          404.845  4.7069         0.0            5.0   \n",
       "4               active          346.334  3.0953         0.0            6.0   \n",
       "...                ...              ...     ...         ...            ...   \n",
       "6335            active          436.489  4.5050         1.0            7.0   \n",
       "6336            active          331.441  3.2431         1.0            5.0   \n",
       "6337          inactive          447.506  5.1143         1.0            5.0   \n",
       "6338          inactive          496.376  5.8682         1.0            4.0   \n",
       "6339            active          198.269  2.6958         1.0            2.0   \n",
       "\n",
       "         PIC50  \n",
       "0     6.124939  \n",
       "1     7.000000  \n",
       "2     4.301030  \n",
       "3     6.522879  \n",
       "4     6.096910  \n",
       "...        ...  \n",
       "6335  6.130768  \n",
       "6336  6.292430  \n",
       "6337  3.903090  \n",
       "6338  4.000000  \n",
       "6339  7.000000  \n",
       "\n",
       "[4928 rows x 8 columns]"
      ]
     },
     "execution_count": 40,
     "metadata": {},
     "output_type": "execute_result"
    }
   ],
   "source": [
    "df_two_class = df_capped_PIC50 [df_capped_PIC50.bioactivity_class != 'intermediate']\n",
    "df_two_class.to_csv (os.path.join (\"Datasets\", \"Part-2_bioactivity_two_class_pic50.csv\"))\n",
    "df_two_class"
   ]
  },
  {
   "cell_type": "markdown",
   "id": "18c97a87-f882-42e8-9dd2-07445b4742c5",
   "metadata": {},
   "source": [
    "#### **Exploratory Data Analysis (Chemical Space Analysis) via Lipinski descriptors**"
   ]
  },
  {
   "cell_type": "markdown",
   "id": "7011c5ee-77f9-469a-b04f-7e453893b329",
   "metadata": {},
   "source": [
    "##### **Import Libraries**"
   ]
  },
  {
   "cell_type": "markdown",
   "id": "fd3980ed-cca0-4624-99eb-6731cf95d66f",
   "metadata": {},
   "source": [
    "import seaborn as sns\n",
    "sns.set (style = 'ticks')\n",
    "import matplotlib.pyplot as plt"
   ]
  },
  {
   "cell_type": "markdown",
   "id": "3ca7da35-1cc6-421d-9d26-393e3c12f450",
   "metadata": {},
   "source": [
    "#### **Frequency plots for bioactivity class**"
   ]
  },
  {
   "cell_type": "code",
   "execution_count": 42,
   "id": "66aae2fd-b7e1-4740-8d80-bdbbb4605b49",
   "metadata": {},
   "outputs": [
    {
     "data": {
      "image/png": "[encoded data removed]",
      "text/plain": [
       "<Figure size 432x288 with 1 Axes>"
      ]
     },
     "metadata": {
      "needs_background": "light"
     },
     "output_type": "display_data"
    }
   ],
   "source": [
    "import matplotlib.pyplot as plt\n",
    "import seaborn as sns\n",
    "\n",
    "sns.countplot (x = 'bioactivity_class', data = df_two_class, edgecolor = 'black')\n",
    "plt.xlabel (\"Bioactivity Class\")\n",
    "plt.ylabel (\"Frequency\")\n",
    "\n",
    "plt.savefig (os.path.join (\"Observations\", \"Part-2_Bioactivity_Class_Frequency.pdf\"))"
   ]
  },
  {
   "cell_type": "markdown",
   "id": "651fdc22-d525-4ab7-aaab-0c7e1ea4d391",
   "metadata": {},
   "source": [
    "#### **Scatter plot of Molecular Weight vs. Log (P)**"
   ]
  },
  {
   "cell_type": "code",
   "execution_count": 43,
   "id": "92bce55d-cb7d-4d78-bd73-3cd9ca44d97b",
   "metadata": {},
   "outputs": [
    {
     "data": {
      "image/png": "[encoded data removed]",
      "text/plain": [
       "<Figure size 720x504 with 1 Axes>"
      ]
     },
     "metadata": {
      "needs_background": "light"
     },
     "output_type": "display_data"
    }
   ],
   "source": [
    "plt.figure (figsize = (10, 7))\n",
    "sns.scatterplot (x = 'MolecularWeight',\n",
    "                 y = 'LogP', hue = 'bioactivity_class',\n",
    "                 data = df_two_class,\n",
    "                 size = 'PIC50',\n",
    "                 edgecolor = 'black')\n",
    "\n",
    "plt.xlabel (\"Molecular Weight\", fontweight = 'bold')\n",
    "plt.ylabel (\"LogP\", fontweight = 'bold')\n",
    "\n",
    "plt.savefig (os.path.join (\"Observations\", \"Part-2_Scatter_Mol_Wt_vs_LogP.pdf\"))"
   ]
  },
  {
   "cell_type": "markdown",
   "id": "54bb1504-5b3a-47c9-89af-6249ce24a52b",
   "metadata": {},
   "source": [
    "#### **Box Plots**"
   ]
  },
  {
   "cell_type": "markdown",
   "id": "41faba82-651b-42c2-b25a-617e44120e4f",
   "metadata": {},
   "source": [
    "##### **Bioactivity Class vs. PIC50**"
   ]
  },
  {
   "cell_type": "code",
   "execution_count": 44,
   "id": "c06f8ace-4a3b-4126-b871-e4218a7f34d2",
   "metadata": {},
   "outputs": [
    {
     "data": {
      "image/png": "[encoded data removed]",
      "text/plain": [
       "<Figure size 504x720 with 1 Axes>"
      ]
     },
     "metadata": {
      "needs_background": "light"
     },
     "output_type": "display_data"
    }
   ],
   "source": [
    "plt.figure (figsize = (7, 10))\n",
    "sns.boxplot (x = 'bioactivity_class', y = 'PIC50', data = df_two_class)\n",
    "plt.xlabel ('Bioactivity Class')\n",
    "plt.ylabel ('PIC50')\n",
    "plt.savefig (os.path.join (\"Observations\", \"Part-2_Box_Bioactivity_vs_PIC50.pdf\"))"
   ]
  },
  {
   "cell_type": "markdown",
   "id": "afe3ba39-6ad1-4c7e-a20d-4a0fd074d828",
   "metadata": {},
   "source": [
    "#### **Statistical Analysis - Matt Whitney U Test**"
   ]
  },
  {
   "cell_type": "markdown",
   "id": "8b16524a-84f5-48bb-99e6-ea12e24cb5a9",
   "metadata": {},
   "source": [
    "##### **\"Statistical Significance\"** refers to the probability that the observed result could have occurred randomly if it has no true underlying effect. ... If you run statistical tests on questions that are likely to be true, your findings are less likely to be false.\n",
    "##### **Source :** https://www.nngroup.com/articles/understanding-statistical-significance/\n",
    "##### **In other words, if a result exists in the sample, then we have evidence that it also exists in the population**\n",
    "##### **We can use p-value to find statistical significance**"
   ]
  },
  {
   "cell_type": "code",
   "execution_count": 45,
   "id": "236d4697-9802-48f7-86a3-a552f0655ca8",
   "metadata": {},
   "outputs": [],
   "source": [
    "def mann_whitney (descriptor) :\n",
    "    from numpy.random import seed, randn\n",
    "    from scipy.stats import mannwhitneyu\n",
    "    \n",
    "    # Seed the Random Number Generator\n",
    "    seed (1)\n",
    "    \n",
    "    # Actives and inactives\n",
    "    selection = [descriptor, 'bioactivity_class']\n",
    "    df = df_two_class [selection]\n",
    "    active = df [df.bioactivity_class == 'active']\n",
    "    active = active [descriptor]\n",
    "    \n",
    "    selection = [descriptor, 'bioactivity_class']\n",
    "    df = df_two_class [selection]\n",
    "    inactive = df [df.bioactivity_class == 'inactive']\n",
    "    inactive = inactive [descriptor]\n",
    "    \n",
    "    stat, p = mannwhitneyu (active, inactive)\n",
    "    \n",
    "    alpha = 0.05\n",
    "    if p > alpha :\n",
    "        interpretation = 'Same distribution (fail to reject H0)'\n",
    "    else :\n",
    "        interpretation = 'Different distribution (reject H0)'\n",
    "        \n",
    "    results = pd.DataFrame ({'Descriptor' : descriptor,\n",
    "                             'Statistics' : stat,\n",
    "                             'p' : p,\n",
    "                             'alpha' : alpha,\n",
    "                             'Interpretation' : interpretation}, index = [0])\n",
    "    \n",
    "    filename = 'mannwhitneyu_' + descriptor + '.csv'\n",
    "    results.to_csv (filename)\n",
    "    return results"
   ]
  },
  {
   "cell_type": "code",
   "execution_count": 46,
   "id": "98c637c9-e093-4786-9dad-b36e436eb616",
   "metadata": {},
   "outputs": [
    {
     "data": {
      "text/html": [
       "<div>\n",
       "<style scoped>\n",
       "    .dataframe tbody tr th:only-of-type {\n",
       "        vertical-align: middle;\n",
       "    }\n",
       "\n",
       "    .dataframe tbody tr th {\n",
       "        vertical-align: top;\n",
       "    }\n",
       "\n",
       "    .dataframe thead th {\n",
       "        text-align: right;\n",
       "    }\n",
       "</style>\n",
       "<table border=\"1\" class=\"dataframe\">\n",
       "  <thead>\n",
       "    <tr style=\"text-align: right;\">\n",
       "      <th></th>\n",
       "      <th>Descriptor</th>\n",
       "      <th>Statistics</th>\n",
       "      <th>p</th>\n",
       "      <th>alpha</th>\n",
       "      <th>Interpretation</th>\n",
       "    </tr>\n",
       "  </thead>\n",
       "  <tbody>\n",
       "    <tr>\n",
       "      <th>0</th>\n",
       "      <td>PIC50</td>\n",
       "      <td>0.0</td>\n",
       "      <td>0.0</td>\n",
       "      <td>0.05</td>\n",
       "      <td>Different distribution (reject H0)</td>\n",
       "    </tr>\n",
       "  </tbody>\n",
       "</table>\n",
       "</div>"
      ],
      "text/plain": [
       "  Descriptor  Statistics    p  alpha                      Interpretation\n",
       "0      PIC50         0.0  0.0   0.05  Different distribution (reject H0)"
      ]
     },
     "execution_count": 46,
     "metadata": {},
     "output_type": "execute_result"
    }
   ],
   "source": [
    "mann_whitney ('PIC50')"
   ]
  },
  {
   "cell_type": "markdown",
   "id": "5c23e38c-fd28-4946-89c5-19edc6c194b9",
   "metadata": {},
   "source": [
    "#### **Molecular Weight**"
   ]
  },
  {
   "cell_type": "code",
   "execution_count": 47,
   "id": "1350f1b3-04bb-44a1-9326-4596557d965c",
   "metadata": {},
   "outputs": [
    {
     "data": {
      "image/png": "[encoded data removed]",
      "text/plain": [
       "<Figure size 432x288 with 1 Axes>"
      ]
     },
     "metadata": {
      "needs_background": "light"
     },
     "output_type": "display_data"
    }
   ],
   "source": [
    "sns.boxplot (x = 'bioactivity_class',\n",
    "             y = 'MolecularWeight',\n",
    "             data = df_two_class)\n",
    "plt.savefig (os.path.join (\"Observations\", \"Part-2_Bioactivity_Class_vs_MolecularWeight.pdf\"))"
   ]
  },
  {
   "cell_type": "code",
   "execution_count": 51,
   "id": "ea02a8c8-4812-44ed-9784-58af8faf2a7c",
   "metadata": {},
   "outputs": [
    {
     "data": {
      "text/html": [
       "<div>\n",
       "<style scoped>\n",
       "    .dataframe tbody tr th:only-of-type {\n",
       "        vertical-align: middle;\n",
       "    }\n",
       "\n",
       "    .dataframe tbody tr th {\n",
       "        vertical-align: top;\n",
       "    }\n",
       "\n",
       "    .dataframe thead th {\n",
       "        text-align: right;\n",
       "    }\n",
       "</style>\n",
       "<table border=\"1\" class=\"dataframe\">\n",
       "  <thead>\n",
       "    <tr style=\"text-align: right;\">\n",
       "      <th></th>\n",
       "      <th>Descriptor</th>\n",
       "      <th>Statistics</th>\n",
       "      <th>p</th>\n",
       "      <th>alpha</th>\n",
       "      <th>Interpretation</th>\n",
       "    </tr>\n",
       "  </thead>\n",
       "  <tbody>\n",
       "    <tr>\n",
       "      <th>0</th>\n",
       "      <td>MolecularWeight</td>\n",
       "      <td>2371574.5</td>\n",
       "      <td>1.362271e-19</td>\n",
       "      <td>0.05</td>\n",
       "      <td>Different distribution (reject H0)</td>\n",
       "    </tr>\n",
       "  </tbody>\n",
       "</table>\n",
       "</div>"
      ],
      "text/plain": [
       "        Descriptor  Statistics             p  alpha  \\\n",
       "0  MolecularWeight   2371574.5  1.362271e-19   0.05   \n",
       "\n",
       "                       Interpretation  \n",
       "0  Different distribution (reject H0)  "
      ]
     },
     "execution_count": 51,
     "metadata": {},
     "output_type": "execute_result"
    }
   ],
   "source": [
    "mann_whitney_mol_wt = mann_whitney (\"MolecularWeight\")\n",
    "mann_whitney_mol_wt.to_csv (os.path.join (\"Observations\", \"Part-2_Molecular_Weight_Mann_Whitney.csv\"))\n",
    "mann_whitney_mol_wt"
   ]
  },
  {
   "cell_type": "markdown",
   "id": "c2620a83-6886-4338-954b-7f302409b5b6",
   "metadata": {},
   "source": [
    "#### **LogP**"
   ]
  },
  {
   "cell_type": "code",
   "execution_count": 49,
   "id": "8ceeab1b-6ce7-4c1a-bae0-d6f4e09db74f",
   "metadata": {},
   "outputs": [
    {
     "data": {
      "image/png": "[encoded data removed]",
      "text/plain": [
       "<Figure size 432x288 with 1 Axes>"
      ]
     },
     "metadata": {
      "needs_background": "light"
     },
     "output_type": "display_data"
    }
   ],
   "source": [
    "sns.boxplot (x = 'bioactivity_class',\n",
    "             y = 'LogP',\n",
    "             data = df_two_class)\n",
    "\n",
    "plt.savefig (os.path.join (\"Observations\", \"Part-2_Bioactivity_Class_vs_LogP.pdf\"))"
   ]
  },
  {
   "cell_type": "code",
   "execution_count": 52,
   "id": "46def8c9-5025-4e45-872b-71786ccac257",
   "metadata": {},
   "outputs": [
    {
     "data": {
      "text/html": [
       "<div>\n",
       "<style scoped>\n",
       "    .dataframe tbody tr th:only-of-type {\n",
       "        vertical-align: middle;\n",
       "    }\n",
       "\n",
       "    .dataframe tbody tr th {\n",
       "        vertical-align: top;\n",
       "    }\n",
       "\n",
       "    .dataframe thead th {\n",
       "        text-align: right;\n",
       "    }\n",
       "</style>\n",
       "<table border=\"1\" class=\"dataframe\">\n",
       "  <thead>\n",
       "    <tr style=\"text-align: right;\">\n",
       "      <th></th>\n",
       "      <th>Descriptor</th>\n",
       "      <th>Statistics</th>\n",
       "      <th>p</th>\n",
       "      <th>alpha</th>\n",
       "      <th>Interpretation</th>\n",
       "    </tr>\n",
       "  </thead>\n",
       "  <tbody>\n",
       "    <tr>\n",
       "      <th>0</th>\n",
       "      <td>LogP</td>\n",
       "      <td>2150385.5</td>\n",
       "      <td>2.316463e-42</td>\n",
       "      <td>0.05</td>\n",
       "      <td>Different distribution (reject H0)</td>\n",
       "    </tr>\n",
       "  </tbody>\n",
       "</table>\n",
       "</div>"
      ],
      "text/plain": [
       "  Descriptor  Statistics             p  alpha  \\\n",
       "0       LogP   2150385.5  2.316463e-42   0.05   \n",
       "\n",
       "                       Interpretation  \n",
       "0  Different distribution (reject H0)  "
      ]
     },
     "execution_count": 52,
     "metadata": {},
     "output_type": "execute_result"
    }
   ],
   "source": [
    "mann_whitney_log_p = mann_whitney ('LogP')\n",
    "mann_whitney_log_p.to_csv (os.path.join (\"Observations\", \"Part-2_Log_P_Mann_Whitney.csv\"))\n",
    "mann_whitney_log_p"
   ]
  },
  {
   "cell_type": "markdown",
   "id": "1e9f7d8d-4335-44eb-b7c9-60ede8c9be14",
   "metadata": {},
   "source": [
    "#### **NumHDonors**"
   ]
  },
  {
   "cell_type": "code",
   "execution_count": 53,
   "id": "2a4edc8f-c8e9-443c-8e07-51aeb8f679d1",
   "metadata": {},
   "outputs": [
    {
     "data": {
      "image/png": "[encoded data removed]",
      "text/plain": [
       "<Figure size 432x288 with 1 Axes>"
      ]
     },
     "metadata": {
      "needs_background": "light"
     },
     "output_type": "display_data"
    }
   ],
   "source": [
    "sns.boxplot (x = 'bioactivity_class', y = 'NumHDonors', data = df_two_class)\n",
    "plt.savefig (os.path.join (\"Observations\", \"Part-2_Bioactivity_Class_vs_NumHDonors.pdf\"))"
   ]
  },
  {
   "cell_type": "markdown",
   "id": "dcd5c692-5e70-4057-a175-d1ae4502d981",
   "metadata": {},
   "source": [
    "#### **Mann Whitney U - Test**"
   ]
  },
  {
   "cell_type": "code",
   "execution_count": 54,
   "id": "f2d5e471-b9e1-4d1d-ac31-3b8f31d1c803",
   "metadata": {},
   "outputs": [
    {
     "data": {
      "text/html": [
       "<div>\n",
       "<style scoped>\n",
       "    .dataframe tbody tr th:only-of-type {\n",
       "        vertical-align: middle;\n",
       "    }\n",
       "\n",
       "    .dataframe tbody tr th {\n",
       "        vertical-align: top;\n",
       "    }\n",
       "\n",
       "    .dataframe thead th {\n",
       "        text-align: right;\n",
       "    }\n",
       "</style>\n",
       "<table border=\"1\" class=\"dataframe\">\n",
       "  <thead>\n",
       "    <tr style=\"text-align: right;\">\n",
       "      <th></th>\n",
       "      <th>Descriptor</th>\n",
       "      <th>Statistics</th>\n",
       "      <th>p</th>\n",
       "      <th>alpha</th>\n",
       "      <th>Interpretation</th>\n",
       "    </tr>\n",
       "  </thead>\n",
       "  <tbody>\n",
       "    <tr>\n",
       "      <th>0</th>\n",
       "      <td>NumHDonors</td>\n",
       "      <td>2554697.0</td>\n",
       "      <td>2.476198e-08</td>\n",
       "      <td>0.05</td>\n",
       "      <td>Different distribution (reject H0)</td>\n",
       "    </tr>\n",
       "  </tbody>\n",
       "</table>\n",
       "</div>"
      ],
      "text/plain": [
       "   Descriptor  Statistics             p  alpha  \\\n",
       "0  NumHDonors   2554697.0  2.476198e-08   0.05   \n",
       "\n",
       "                       Interpretation  \n",
       "0  Different distribution (reject H0)  "
      ]
     },
     "execution_count": 54,
     "metadata": {},
     "output_type": "execute_result"
    }
   ],
   "source": [
    "mann_whitney_num_h_donors = mann_whitney ('NumHDonors')\n",
    "mann_whitney_num_h_donors.to_csv (os.path.join (\"Observations\", \"Part-2_Num_H_Donors_Mann_Whitney.csv\"))\n",
    "mann_whitney_num_h_donors"
   ]
  },
  {
   "cell_type": "markdown",
   "id": "33e9d661-a320-4f27-8deb-4e03d19523b4",
   "metadata": {},
   "source": [
    "#### **NumHAcceptors**"
   ]
  },
  {
   "cell_type": "code",
   "execution_count": 55,
   "id": "63aef4da-7a74-4a06-8acc-71f02073970a",
   "metadata": {},
   "outputs": [
    {
     "data": {
      "image/png": "[encoded data removed]",
      "text/plain": [
       "<Figure size 432x288 with 1 Axes>"
      ]
     },
     "metadata": {
      "needs_background": "light"
     },
     "output_type": "display_data"
    }
   ],
   "source": [
    "sns.boxplot (x = 'bioactivity_class', y = 'NumHAcceptors', data = df_two_class)\n",
    "plt.savefig (os.path.join (\"Observations\", \"Part-2_Bioactivity_Class_vs_NumHAcceptors.pdf\"))"
   ]
  },
  {
   "cell_type": "code",
   "execution_count": 56,
   "id": "a29ab083-e8c2-40c0-bf9d-5c8d2d035901",
   "metadata": {},
   "outputs": [
    {
     "data": {
      "text/html": [
       "<div>\n",
       "<style scoped>\n",
       "    .dataframe tbody tr th:only-of-type {\n",
       "        vertical-align: middle;\n",
       "    }\n",
       "\n",
       "    .dataframe tbody tr th {\n",
       "        vertical-align: top;\n",
       "    }\n",
       "\n",
       "    .dataframe thead th {\n",
       "        text-align: right;\n",
       "    }\n",
       "</style>\n",
       "<table border=\"1\" class=\"dataframe\">\n",
       "  <thead>\n",
       "    <tr style=\"text-align: right;\">\n",
       "      <th></th>\n",
       "      <th>Descriptor</th>\n",
       "      <th>Statistics</th>\n",
       "      <th>p</th>\n",
       "      <th>alpha</th>\n",
       "      <th>Interpretation</th>\n",
       "    </tr>\n",
       "  </thead>\n",
       "  <tbody>\n",
       "    <tr>\n",
       "      <th>0</th>\n",
       "      <td>NumHAcceptors</td>\n",
       "      <td>2800497.0</td>\n",
       "      <td>0.483887</td>\n",
       "      <td>0.05</td>\n",
       "      <td>Same distribution (fail to reject H0)</td>\n",
       "    </tr>\n",
       "  </tbody>\n",
       "</table>\n",
       "</div>"
      ],
      "text/plain": [
       "      Descriptor  Statistics         p  alpha  \\\n",
       "0  NumHAcceptors   2800497.0  0.483887   0.05   \n",
       "\n",
       "                          Interpretation  \n",
       "0  Same distribution (fail to reject H0)  "
      ]
     },
     "execution_count": 56,
     "metadata": {},
     "output_type": "execute_result"
    }
   ],
   "source": [
    "mann_whitney_num_h_acceptors = mann_whitney ('NumHAcceptors')\n",
    "mann_whitney_num_h_acceptors.to_csv (os.path.join (\"Observations\", \"Part-2_Num_H_Acceptors_Mann_Whitney.csv\"))\n",
    "mann_whitney_num_h_acceptors"
   ]
  }
 ],
 "metadata": {
  "kernelspec": {
   "display_name": "Python 3 (ipykernel)",
   "language": "python",
   "name": "python3"
  },
  "language_info": {
   "codemirror_mode": {
    "name": "ipython",
    "version": 3
   },
   "file_extension": ".py",
   "mimetype": "text/x-python",
   "name": "python",
   "nbconvert_exporter": "python",
   "pygments_lexer": "ipython3",
   "version": "3.7.11"
  }
 },
 "nbformat": 4,
 "nbformat_minor": 5
}
