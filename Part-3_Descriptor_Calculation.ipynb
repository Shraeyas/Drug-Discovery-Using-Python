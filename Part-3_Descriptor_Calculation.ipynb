{
 "cells": [
  {
   "cell_type": "markdown",
   "id": "7145cba6-2ad4-4c5c-b0c8-c7998e40608a",
   "metadata": {},
   "source": [
    "#### We will be calculating molecular descriptors that are essentially quantitative description of the compounds in the dataset. Finally, we will be preparing this into a dataset for subsequent model building in Part 4"
   ]
  },
  {
   "cell_type": "markdown",
   "id": "db7cbe9b-a3bb-4724-8a1e-1711080724d5",
   "metadata": {},
   "source": [
    "##### Download PaDEL Descriptor"
   ]
  },
  {
   "cell_type": "code",
   "execution_count": null,
   "id": "7ee89052-471e-4207-9efb-33e0f5244a07",
   "metadata": {},
   "outputs": [],
   "source": [
    "import urllib.request\n",
    "url = 'https://github.com/dataprofessor/bioinformatics/raw/master/padel.zip'\n",
    "filename = 'padel.zip'\n",
    "urllib.request.urlretrieve(url, filename)\n",
    "\n",
    "url = 'https://github.com/dataprofessor/bioinformatics/raw/master/padel.sh'\n",
    "filename = 'padel.sh'\n",
    "urllib.request.urlretrieve(url, filename)"
   ]
  },
  {
   "cell_type": "code",
   "execution_count": null,
   "id": "84f3779c-61a6-49be-94b4-b6afffe2ba31",
   "metadata": {},
   "outputs": [],
   "source": [
    "import zipfile\n",
    "\n",
    "with zipfile.ZipFile('padel.zip', 'r') as zip_ref:\n",
    "    zip_ref.extractall(\"\")"
   ]
  },
  {
   "cell_type": "markdown",
   "id": "2fde6ded-1ff8-4341-9ec6-1d76c99952e9",
   "metadata": {},
   "source": [
    "#### Load Bioactivity data\n",
    "##### We'll load the bioactivity class that we Pre-Processed in part 2"
   ]
  },
  {
   "cell_type": "code",
   "execution_count": 1,
   "id": "ffdf06f4-a430-49fd-aebe-ed271719aba4",
   "metadata": {},
   "outputs": [
    {
     "data": {
      "text/html": [
       "<div>\n",
       "<style scoped>\n",
       "    .dataframe tbody tr th:only-of-type {\n",
       "        vertical-align: middle;\n",
       "    }\n",
       "\n",
       "    .dataframe tbody tr th {\n",
       "        vertical-align: top;\n",
       "    }\n",
       "\n",
       "    .dataframe thead th {\n",
       "        text-align: right;\n",
       "    }\n",
       "</style>\n",
       "<table border=\"1\" class=\"dataframe\">\n",
       "  <thead>\n",
       "    <tr style=\"text-align: right;\">\n",
       "      <th></th>\n",
       "      <th>Unnamed: 0</th>\n",
       "      <th>molecule_chembl_id</th>\n",
       "      <th>canonical_smiles</th>\n",
       "      <th>bioactivity_class</th>\n",
       "      <th>MolecularWeight</th>\n",
       "      <th>LogP</th>\n",
       "      <th>NumHDonors</th>\n",
       "      <th>NumHAcceptors</th>\n",
       "      <th>PIC50</th>\n",
       "    </tr>\n",
       "  </thead>\n",
       "  <tbody>\n",
       "    <tr>\n",
       "      <th>0</th>\n",
       "      <td>2</td>\n",
       "      <td>CHEMBL185698</td>\n",
       "      <td>O=C1C(=O)N(CC2COc3ccccc3O2)c2ccc(I)cc21</td>\n",
       "      <td>inactive</td>\n",
       "      <td>421.190</td>\n",
       "      <td>2.66050</td>\n",
       "      <td>0.0</td>\n",
       "      <td>4.0</td>\n",
       "      <td>4.869666</td>\n",
       "    </tr>\n",
       "    <tr>\n",
       "      <th>1</th>\n",
       "      <td>3</td>\n",
       "      <td>CHEMBL426082</td>\n",
       "      <td>O=C1C(=O)N(Cc2cc3ccccc3s2)c2ccccc21</td>\n",
       "      <td>inactive</td>\n",
       "      <td>293.347</td>\n",
       "      <td>3.63080</td>\n",
       "      <td>0.0</td>\n",
       "      <td>3.0</td>\n",
       "      <td>4.882397</td>\n",
       "    </tr>\n",
       "    <tr>\n",
       "      <th>2</th>\n",
       "      <td>5</td>\n",
       "      <td>CHEMBL365134</td>\n",
       "      <td>O=C1C(=O)N(Cc2cc3ccccc3s2)c2c(Br)cccc21</td>\n",
       "      <td>active</td>\n",
       "      <td>372.243</td>\n",
       "      <td>4.39330</td>\n",
       "      <td>0.0</td>\n",
       "      <td>3.0</td>\n",
       "      <td>6.008774</td>\n",
       "    </tr>\n",
       "    <tr>\n",
       "      <th>3</th>\n",
       "      <td>7</td>\n",
       "      <td>CHEMBL190743</td>\n",
       "      <td>O=C1C(=O)N(Cc2cc3ccccc3s2)c2ccc(I)cc21</td>\n",
       "      <td>active</td>\n",
       "      <td>419.243</td>\n",
       "      <td>4.23540</td>\n",
       "      <td>0.0</td>\n",
       "      <td>3.0</td>\n",
       "      <td>6.022276</td>\n",
       "    </tr>\n",
       "    <tr>\n",
       "      <th>4</th>\n",
       "      <td>8</td>\n",
       "      <td>CHEMBL365469</td>\n",
       "      <td>O=C1C(=O)N(Cc2cc3ccccc3s2)c2cccc(Cl)c21</td>\n",
       "      <td>inactive</td>\n",
       "      <td>327.792</td>\n",
       "      <td>4.28420</td>\n",
       "      <td>0.0</td>\n",
       "      <td>3.0</td>\n",
       "      <td>4.950782</td>\n",
       "    </tr>\n",
       "    <tr>\n",
       "      <th>...</th>\n",
       "      <td>...</td>\n",
       "      <td>...</td>\n",
       "      <td>...</td>\n",
       "      <td>...</td>\n",
       "      <td>...</td>\n",
       "      <td>...</td>\n",
       "      <td>...</td>\n",
       "      <td>...</td>\n",
       "      <td>...</td>\n",
       "    </tr>\n",
       "    <tr>\n",
       "      <th>114</th>\n",
       "      <td>128</td>\n",
       "      <td>CHEMBL2146517</td>\n",
       "      <td>COC(=O)[C@@]1(C)CCCc2c1ccc1c2C(=O)C(=O)c2c(C)c...</td>\n",
       "      <td>inactive</td>\n",
       "      <td>338.359</td>\n",
       "      <td>3.40102</td>\n",
       "      <td>0.0</td>\n",
       "      <td>5.0</td>\n",
       "      <td>4.974694</td>\n",
       "    </tr>\n",
       "    <tr>\n",
       "      <th>115</th>\n",
       "      <td>129</td>\n",
       "      <td>CHEMBL187460</td>\n",
       "      <td>C[C@H]1COC2=C1C(=O)C(=O)c1c2ccc2c1CCCC2(C)C</td>\n",
       "      <td>inactive</td>\n",
       "      <td>296.366</td>\n",
       "      <td>3.44330</td>\n",
       "      <td>0.0</td>\n",
       "      <td>3.0</td>\n",
       "      <td>4.995679</td>\n",
       "    </tr>\n",
       "    <tr>\n",
       "      <th>116</th>\n",
       "      <td>130</td>\n",
       "      <td>CHEMBL363535</td>\n",
       "      <td>Cc1coc2c1C(=O)C(=O)c1c-2ccc2c(C)cccc12</td>\n",
       "      <td>inactive</td>\n",
       "      <td>276.291</td>\n",
       "      <td>4.09564</td>\n",
       "      <td>0.0</td>\n",
       "      <td>3.0</td>\n",
       "      <td>4.939302</td>\n",
       "    </tr>\n",
       "    <tr>\n",
       "      <th>117</th>\n",
       "      <td>131</td>\n",
       "      <td>CHEMBL227075</td>\n",
       "      <td>Cc1cccc2c3c(ccc12)C1=C(C(=O)C3=O)[C@@H](C)CO1</td>\n",
       "      <td>inactive</td>\n",
       "      <td>278.307</td>\n",
       "      <td>3.29102</td>\n",
       "      <td>0.0</td>\n",
       "      <td>3.0</td>\n",
       "      <td>4.970616</td>\n",
       "    </tr>\n",
       "    <tr>\n",
       "      <th>118</th>\n",
       "      <td>132</td>\n",
       "      <td>CHEMBL45830</td>\n",
       "      <td>CC(C)C1=Cc2ccc3c(c2C(=O)C1=O)CCCC3(C)C</td>\n",
       "      <td>inactive</td>\n",
       "      <td>282.383</td>\n",
       "      <td>4.10530</td>\n",
       "      <td>0.0</td>\n",
       "      <td>2.0</td>\n",
       "      <td>4.102923</td>\n",
       "    </tr>\n",
       "  </tbody>\n",
       "</table>\n",
       "<p>119 rows × 9 columns</p>\n",
       "</div>"
      ],
      "text/plain": [
       "     Unnamed: 0 molecule_chembl_id  \\\n",
       "0             2       CHEMBL185698   \n",
       "1             3       CHEMBL426082   \n",
       "2             5       CHEMBL365134   \n",
       "3             7       CHEMBL190743   \n",
       "4             8       CHEMBL365469   \n",
       "..          ...                ...   \n",
       "114         128      CHEMBL2146517   \n",
       "115         129       CHEMBL187460   \n",
       "116         130       CHEMBL363535   \n",
       "117         131       CHEMBL227075   \n",
       "118         132        CHEMBL45830   \n",
       "\n",
       "                                      canonical_smiles bioactivity_class  \\\n",
       "0              O=C1C(=O)N(CC2COc3ccccc3O2)c2ccc(I)cc21          inactive   \n",
       "1                  O=C1C(=O)N(Cc2cc3ccccc3s2)c2ccccc21          inactive   \n",
       "2              O=C1C(=O)N(Cc2cc3ccccc3s2)c2c(Br)cccc21            active   \n",
       "3               O=C1C(=O)N(Cc2cc3ccccc3s2)c2ccc(I)cc21            active   \n",
       "4              O=C1C(=O)N(Cc2cc3ccccc3s2)c2cccc(Cl)c21          inactive   \n",
       "..                                                 ...               ...   \n",
       "114  COC(=O)[C@@]1(C)CCCc2c1ccc1c2C(=O)C(=O)c2c(C)c...          inactive   \n",
       "115        C[C@H]1COC2=C1C(=O)C(=O)c1c2ccc2c1CCCC2(C)C          inactive   \n",
       "116             Cc1coc2c1C(=O)C(=O)c1c-2ccc2c(C)cccc12          inactive   \n",
       "117      Cc1cccc2c3c(ccc12)C1=C(C(=O)C3=O)[C@@H](C)CO1          inactive   \n",
       "118             CC(C)C1=Cc2ccc3c(c2C(=O)C1=O)CCCC3(C)C          inactive   \n",
       "\n",
       "     MolecularWeight     LogP  NumHDonors  NumHAcceptors     PIC50  \n",
       "0            421.190  2.66050         0.0            4.0  4.869666  \n",
       "1            293.347  3.63080         0.0            3.0  4.882397  \n",
       "2            372.243  4.39330         0.0            3.0  6.008774  \n",
       "3            419.243  4.23540         0.0            3.0  6.022276  \n",
       "4            327.792  4.28420         0.0            3.0  4.950782  \n",
       "..               ...      ...         ...            ...       ...  \n",
       "114          338.359  3.40102         0.0            5.0  4.974694  \n",
       "115          296.366  3.44330         0.0            3.0  4.995679  \n",
       "116          276.291  4.09564         0.0            3.0  4.939302  \n",
       "117          278.307  3.29102         0.0            3.0  4.970616  \n",
       "118          282.383  4.10530         0.0            2.0  4.102923  \n",
       "\n",
       "[119 rows x 9 columns]"
      ]
     },
     "execution_count": 1,
     "metadata": {},
     "output_type": "execute_result"
    }
   ],
   "source": [
    "import pandas as pd\n",
    "df3 = pd.read_csv (\"bioactivity_two_class_pic50.csv\")\n",
    "df3"
   ]
  },
  {
   "cell_type": "code",
   "execution_count": null,
   "id": "3010c3ba-f0b8-4525-9121-ac1cb422ea6a",
   "metadata": {},
   "outputs": [],
   "source": [
    "selection = ['canonical_smiles', 'molecule_chembl_id']\n",
    "df3_selection = df3 [selection]\n",
    "df3_selection.to_csv ('molecule.smi', sep = '\\t', index = False, header = False)"
   ]
  },
  {
   "cell_type": "code",
   "execution_count": null,
   "id": "c24152b7-4516-4701-8751-db228b499e22",
   "metadata": {},
   "outputs": [],
   "source": [
    "df3_selection.head (5)"
   ]
  },
  {
   "cell_type": "markdown",
   "id": "e570fcc3-6c2e-44c2-8df9-094b5a988f5f",
   "metadata": {},
   "source": [
    "##### **1. Removesalt** : For removing any impurities in the molecule\n",
    "##### **2. Standardize Nitro** : Also used for cleaning Chemical structure\n",
    "##### **3. Removesalt** : For removing any impurities in the molecule"
   ]
  },
  {
   "cell_type": "markdown",
   "id": "ff2f19f7-1bab-41cd-84a7-e0b2708401c6",
   "metadata": {},
   "source": [
    "##### **https://onlinelibrary.wiley.com/doi/full/10.1002/jcc.21707**"
   ]
  },
  {
   "cell_type": "markdown",
   "id": "ce373535-4d90-41f0-8072-2f1d5e25d73d",
   "metadata": {},
   "source": [
    "##### Install Padelpy Library"
   ]
  },
  {
   "cell_type": "code",
   "execution_count": 30,
   "id": "be033161-cc78-474c-9bec-d1ac03d0ddd4",
   "metadata": {},
   "outputs": [
    {
     "name": "stdout",
     "output_type": "stream",
     "text": [
      "Requirement already satisfied: padelpy in /home/shraeyas/miniconda3/envs/drug/lib/python3.7/site-packages (0.1.10)\n"
     ]
    }
   ],
   "source": [
    "!pip install padelpy"
   ]
  },
  {
   "cell_type": "code",
   "execution_count": 32,
   "id": "b857c1e1-7075-437d-ab76-d35238abe9ab",
   "metadata": {},
   "outputs": [
    {
     "name": "stdout",
     "output_type": "stream",
     "text": [
      "--2021-10-23 17:34:10--  https://github.com/dataprofessor/padel/raw/main/fingerprints_xml.zip\n",
      "Resolving github.com (github.com)... 13.234.176.102\n",
      "Connecting to github.com (github.com)|13.234.176.102|:443... connected.\n",
      "HTTP request sent, awaiting response... 302 Found\n",
      "Location: https://raw.githubusercontent.com/dataprofessor/padel/main/fingerprints_xml.zip [following]\n",
      "--2021-10-23 17:34:10--  https://raw.githubusercontent.com/dataprofessor/padel/main/fingerprints_xml.zip\n",
      "Resolving raw.githubusercontent.com (raw.githubusercontent.com)... 185.199.111.133, 185.199.108.133, 185.199.109.133, ...\n",
      "Connecting to raw.githubusercontent.com (raw.githubusercontent.com)|185.199.111.133|:443... connected.\n",
      "HTTP request sent, awaiting response... 200 OK\n",
      "Length: 10871 (11K) [application/zip]\n",
      "Saving to: ‘fingerprints_xml.zip.1’\n",
      "\n",
      "fingerprints_xml.zi 100%[===================>]  10.62K  --.-KB/s    in 0s      \n",
      "\n",
      "2021-10-23 17:34:10 (62.6 MB/s) - ‘fingerprints_xml.zip.1’ saved [10871/10871]\n",
      "\n",
      "Archive:  fingerprints_xml.zip\n",
      "  inflating: AtomPairs2DFingerprintCount.xml  \n",
      "  inflating: AtomPairs2DFingerprinter.xml  \n",
      "  inflating: EStateFingerprinter.xml  \n",
      "  inflating: ExtendedFingerprinter.xml  \n",
      "  inflating: Fingerprinter.xml       \n",
      "  inflating: GraphOnlyFingerprinter.xml  \n",
      "  inflating: KlekotaRothFingerprintCount.xml  \n",
      "  inflating: KlekotaRothFingerprinter.xml  \n",
      "  inflating: MACCSFingerprinter.xml  \n",
      "  inflating: PubchemFingerprinter.xml  \n",
      "  inflating: SubstructureFingerprintCount.xml  \n",
      "  inflating: SubstructureFingerprinter.xml  \n"
     ]
    }
   ],
   "source": [
    "! wget https://github.com/dataprofessor/padel/raw/main/fingerprints_xml.zip\n",
    "! unzip fingerprints_xml.zip"
   ]
  },
  {
   "cell_type": "markdown",
   "id": "fbb392de-0a81-457b-b00b-82a38080305d",
   "metadata": {},
   "source": [
    "##### List and sort fingerprint XML files"
   ]
  },
  {
   "cell_type": "code",
   "execution_count": 33,
   "id": "c8bc4e22-88b4-4784-bb0e-bbffa84cbafa",
   "metadata": {},
   "outputs": [
    {
     "data": {
      "text/plain": [
       "['AtomPairs2DFingerprintCount.xml',\n",
       " 'AtomPairs2DFingerprinter.xml',\n",
       " 'EStateFingerprinter.xml',\n",
       " 'ExtendedFingerprinter.xml',\n",
       " 'Fingerprinter.xml',\n",
       " 'GraphOnlyFingerprinter.xml',\n",
       " 'KlekotaRothFingerprintCount.xml',\n",
       " 'KlekotaRothFingerprinter.xml',\n",
       " 'MACCSFingerprinter.xml',\n",
       " 'PubchemFingerprinter.xml',\n",
       " 'SubstructureFingerprintCount.xml',\n",
       " 'SubstructureFingerprinter.xml']"
      ]
     },
     "execution_count": 33,
     "metadata": {},
     "output_type": "execute_result"
    }
   ],
   "source": [
    "import glob\n",
    "xml_files = glob.glob(\"*.xml\")\n",
    "xml_files.sort()\n",
    "xml_files"
   ]
  },
  {
   "cell_type": "code",
   "execution_count": 34,
   "id": "faf41644-8c91-4b99-8050-08315af86b7a",
   "metadata": {},
   "outputs": [],
   "source": [
    "FP_list = ['AtomPairs2DCount',\n",
    " 'AtomPairs2D',\n",
    " 'EState',\n",
    " 'CDKextended',\n",
    " 'CDK',\n",
    " 'CDKgraphonly',\n",
    " 'KlekotaRothCount',\n",
    " 'KlekotaRoth',\n",
    " 'MACCS',\n",
    " 'PubChem',\n",
    " 'SubstructureCount',\n",
    " 'Substructure']"
   ]
  },
  {
   "cell_type": "markdown",
   "id": "168dbd8e-ed3e-4355-bce1-8a8c91bd5445",
   "metadata": {},
   "source": [
    "##### Create a dictionary"
   ]
  },
  {
   "cell_type": "code",
   "execution_count": 35,
   "id": "f3f874c8-9455-490d-940e-3997a193f428",
   "metadata": {},
   "outputs": [
    {
     "data": {
      "text/plain": [
       "{'AtomPairs2DCount': 'AtomPairs2DFingerprintCount.xml',\n",
       " 'AtomPairs2D': 'AtomPairs2DFingerprinter.xml',\n",
       " 'EState': 'EStateFingerprinter.xml',\n",
       " 'CDKextended': 'ExtendedFingerprinter.xml',\n",
       " 'CDK': 'Fingerprinter.xml',\n",
       " 'CDKgraphonly': 'GraphOnlyFingerprinter.xml',\n",
       " 'KlekotaRothCount': 'KlekotaRothFingerprintCount.xml',\n",
       " 'KlekotaRoth': 'KlekotaRothFingerprinter.xml',\n",
       " 'MACCS': 'MACCSFingerprinter.xml',\n",
       " 'PubChem': 'PubchemFingerprinter.xml',\n",
       " 'SubstructureCount': 'SubstructureFingerprintCount.xml',\n",
       " 'Substructure': 'SubstructureFingerprinter.xml'}"
      ]
     },
     "execution_count": 35,
     "metadata": {},
     "output_type": "execute_result"
    }
   ],
   "source": [
    "fp = dict(zip(FP_list, xml_files))\n",
    "fp"
   ]
  },
  {
   "cell_type": "code",
   "execution_count": 37,
   "id": "829cc5e9-3159-4aa5-8d75-514415241b32",
   "metadata": {},
   "outputs": [
    {
     "data": {
      "text/plain": [
       "'PubchemFingerprinter.xml'"
      ]
     },
     "execution_count": 37,
     "metadata": {},
     "output_type": "execute_result"
    }
   ],
   "source": [
    "fp['PubChem']"
   ]
  }
 ],
 "metadata": {
  "kernelspec": {
   "display_name": "Python 3 (ipykernel)",
   "language": "python",
   "name": "python3"
  },
  "language_info": {
   "codemirror_mode": {
    "name": "ipython",
    "version": 3
   },
   "file_extension": ".py",
   "mimetype": "text/x-python",
   "name": "python",
   "nbconvert_exporter": "python",
   "pygments_lexer": "ipython3",
   "version": "3.7.11"
  }
 },
 "nbformat": 4,
 "nbformat_minor": 5
}
